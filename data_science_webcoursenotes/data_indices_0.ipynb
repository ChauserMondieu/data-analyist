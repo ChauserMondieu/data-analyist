{
 "cells": [
  {
   "cell_type": "markdown",
   "id": "ebcc77c0",
   "metadata": {
    "toc": true
   },
   "source": [
    "<h1>Table of Contents<span class=\"tocSkip\"></span></h1>\n",
    "<div class=\"toc\"><ul class=\"toc-item\"><li><span><a href=\"#数据分析\" data-toc-modified-id=\"数据分析-1\"><span class=\"toc-item-num\">1&nbsp;&nbsp;</span>数据分析</a></span><ul class=\"toc-item\"><li><span><a href=\"#简介\" data-toc-modified-id=\"简介-1.1\"><span class=\"toc-item-num\">1.1&nbsp;&nbsp;</span>简介</a></span></li></ul></li></ul></div>"
   ]
  },
  {
   "cell_type": "markdown",
   "id": "b76cf17d",
   "metadata": {},
   "source": [
    "# 数据分析"
   ]
  },
  {
   "cell_type": "markdown",
   "id": "5a112ed1",
   "metadata": {},
   "source": [
    "## 简介\n",
    "1. 数据分析是指将收集来的大量数据使用适当的分析方法进行分析，运用高效的分析工具将他们加以分类汇总，并提取其中最有价值的信息，概括总结形成有效结论，挖掘数据最大价值的过程<br>\n",
    "2. 数据科学从数据的角度概括了数据有关的活动\n",
    "    1. 数据工程\n",
    "    2. 数据可视化\n",
    "    3. 数据集成与ETL\n",
    "    4. 商业智能\n",
    "    5. 数据产品｜数据资产\n",
    "    6. 大数据"
   ]
  },
  {
   "cell_type": "code",
   "execution_count": null,
   "id": "b61d5a5f",
   "metadata": {},
   "outputs": [],
   "source": []
  }
 ],
 "metadata": {
  "kernelspec": {
   "display_name": "python3.6",
   "language": "python",
   "name": "python3.6"
  },
  "language_info": {
   "codemirror_mode": {
    "name": "ipython",
    "version": 3
   },
   "file_extension": ".py",
   "mimetype": "text/x-python",
   "name": "python",
   "nbconvert_exporter": "python",
   "pygments_lexer": "ipython3",
   "version": "3.9.7"
  },
  "toc": {
   "base_numbering": 1,
   "nav_menu": {},
   "number_sections": true,
   "sideBar": true,
   "skip_h1_title": false,
   "title_cell": "Table of Contents",
   "title_sidebar": "Contents",
   "toc_cell": true,
   "toc_position": {},
   "toc_section_display": true,
   "toc_window_display": false
  }
 },
 "nbformat": 4,
 "nbformat_minor": 5
}
