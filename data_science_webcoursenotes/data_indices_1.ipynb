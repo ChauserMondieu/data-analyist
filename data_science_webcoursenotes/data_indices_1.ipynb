{
 "cells": [
  {
   "cell_type": "markdown",
   "id": "c99904ae",
   "metadata": {
    "toc": true
   },
   "source": [
    "<h1>Table of Contents<span class=\"tocSkip\"></span></h1>\n",
    "<div class=\"toc\"><ul class=\"toc-item\"><li><span><a href=\"#数据指标\" data-toc-modified-id=\"数据指标-1\"><span class=\"toc-item-num\">1&nbsp;&nbsp;</span>数据指标</a></span><ul class=\"toc-item\"><li><span><a href=\"#简介\" data-toc-modified-id=\"简介-1.1\"><span class=\"toc-item-num\">1.1&nbsp;&nbsp;</span>简介</a></span><ul class=\"toc-item\"><li><span><a href=\"#什么是数据指标\" data-toc-modified-id=\"什么是数据指标-1.1.1\"><span class=\"toc-item-num\">1.1.1&nbsp;&nbsp;</span>什么是数据指标</a></span></li><li><span><a href=\"#常用数据指标\" data-toc-modified-id=\"常用数据指标-1.1.2\"><span class=\"toc-item-num\">1.1.2&nbsp;&nbsp;</span>常用数据指标</a></span><ul class=\"toc-item\"><li><span><a href=\"#用户数据\" data-toc-modified-id=\"用户数据-1.1.2.1\"><span class=\"toc-item-num\">1.1.2.1&nbsp;&nbsp;</span>用户数据</a></span></li><li><span><a href=\"#行为数据\" data-toc-modified-id=\"行为数据-1.1.2.2\"><span class=\"toc-item-num\">1.1.2.2&nbsp;&nbsp;</span>行为数据</a></span></li><li><span><a href=\"#业务数据\" data-toc-modified-id=\"业务数据-1.1.2.3\"><span class=\"toc-item-num\">1.1.2.3&nbsp;&nbsp;</span>业务数据</a></span></li></ul></li><li><span><a href=\"#指标查看中的坑\" data-toc-modified-id=\"指标查看中的坑-1.1.3\"><span class=\"toc-item-num\">1.1.3&nbsp;&nbsp;</span>指标查看中的坑</a></span></li></ul></li><li><span><a href=\"#用户指标\" data-toc-modified-id=\"用户指标-1.2\"><span class=\"toc-item-num\">1.2&nbsp;&nbsp;</span>用户指标</a></span><ul class=\"toc-item\"><li><span><a href=\"#DAU/MAU\" data-toc-modified-id=\"DAU/MAU-1.2.1\"><span class=\"toc-item-num\">1.2.1&nbsp;&nbsp;</span>DAU/MAU</a></span><ul class=\"toc-item\"><li><span><a href=\"#理解\" data-toc-modified-id=\"理解-1.2.1.1\"><span class=\"toc-item-num\">1.2.1.1&nbsp;&nbsp;</span>理解</a></span></li></ul></li></ul></li></ul></li></ul></div>"
   ]
  },
  {
   "cell_type": "markdown",
   "id": "92d80733",
   "metadata": {},
   "source": [
    "# 数据指标\n",
    "## 简介\n",
    "### 什么是数据指标\n",
    "对当前业务有参考价值的统计数据\n",
    "### 常用数据指标\n",
    "#### 用户数据\n",
    "1. 存量 DAU/MAU\n",
    "2. 增量 新增用户\n",
    "3. 健康程度 留存率\n",
    "4. 从哪里来 渠道来源\n",
    "#### 行为数据\n",
    "1. 次数/频率 PV/UV 访问深度\n",
    "2. 路径走通程度 转化率\n",
    "3. 做了多久 时长\n",
    "4. 质量 弹出率 \n",
    "#### 业务数据\n",
    "1. 总量 GMV访问时长\n",
    "2. 人均 ARPU/ARPPU人均访问时长\n",
    "3. 人数 付费人数/播放人数\n",
    "4. 健康程度 付费率/付费频次 观看率\n",
    "5. 被消费对象 SKU视角 被消费内容视角\n",
    "### 指标查看中的坑\n",
    "\n",
    "## 用户指标\n",
    "### DAU/MAU\n",
    "Daily Active User / Monthly Active User\n",
    "#### D/M\n",
    "* 自然日 - 跨时区问题\n",
    "* MAU $\\ne$ 当月DAU之和\n",
    "#### A\n",
    "1. 方法一 - 数据统计系统的定义\n",
    "    * 基于事件上报：有事件上报=该用户活跃\n",
    "        * 问题：假定事件上报一定来自于用户主动操作\n",
    "    * 基于关键事件上报：用户执行了关键事件=该用户活跃\n",
    "        * 问题：日活事件列表存在维护成本\n",
    "#### U\n",
    "1. 可能存在多台设备由同一个人使用\n",
    "2. 可能存在一台设备由多个人使用\n",
    "3. 方法1 - 认人 用户数 = ID数量\n",
    "    * 给每一位注册用户生成一个唯一的专属ID\n",
    "    * 只适合强注册/登陆的环境\n",
    "4. 方法2 - 认设备 用户数 = 访问过服务的设备数量\n",
    "    * 在网页中埋下一段长随机字符串，作为设备唯一标识符\n",
    "    * \n",
    "5. 思路\n",
    "    1. 是否有账号体系 - 没有：认设备\n",
    "    2. 是否依赖强登陆 - 有：认人"
   ]
  },
  {
   "cell_type": "code",
   "execution_count": null,
   "id": "7d35484e",
   "metadata": {},
   "outputs": [],
   "source": []
  }
 ],
 "metadata": {
  "kernelspec": {
   "display_name": "python3.6",
   "language": "python",
   "name": "python3.6"
  },
  "language_info": {
   "codemirror_mode": {
    "name": "ipython",
    "version": 3
   },
   "file_extension": ".py",
   "mimetype": "text/x-python",
   "name": "python",
   "nbconvert_exporter": "python",
   "pygments_lexer": "ipython3",
   "version": "3.9.7"
  },
  "toc": {
   "base_numbering": 1,
   "nav_menu": {},
   "number_sections": true,
   "sideBar": true,
   "skip_h1_title": false,
   "title_cell": "Table of Contents",
   "title_sidebar": "Contents",
   "toc_cell": true,
   "toc_position": {},
   "toc_section_display": true,
   "toc_window_display": false
  }
 },
 "nbformat": 4,
 "nbformat_minor": 5
}
