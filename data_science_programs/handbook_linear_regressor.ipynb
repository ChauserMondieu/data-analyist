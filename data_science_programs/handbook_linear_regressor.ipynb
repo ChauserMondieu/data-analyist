{
 "cells": [
  {
   "cell_type": "markdown",
   "id": "0b21e825",
   "metadata": {},
   "source": [
    "# linear_model"
   ]
  },
  {
   "cell_type": "markdown",
   "id": "067439c6",
   "metadata": {},
   "source": [
    "## LogisticRegressor\n",
    "1. 首先是分类模式 multi_class 参数\n",
    "    1. 默认为ovr，使用的是sigmoid函数+熵作为损失函数\n",
    "    2. 如果使用multinomial [mvm]，使用的是softmax函数+交叉熵作为损失函数\n",
    "2. 其次是梯度求解方法 solver\n",
    "    1. liblinear 默认\n",
    "    2. lbfgs\n",
    "    3. newton-cg\n",
    "    4. sag\n",
    "    5. saga\n",
    "3. 更精细化的参数\n",
    "    1. 最大迭代次数 max_iter\n",
    "    2. 最小损失值 tol\n",
    "    3. 正则化系数 $C=\\frac{1}{\\lambda}$\n",
    "    4. 正则化方式 penalty 有两个可选参数 l1 l2"
   ]
  },
  {
   "cell_type": "markdown",
   "id": "37bb7194",
   "metadata": {},
   "source": [
    "# polynomial_model"
   ]
  },
  {
   "cell_type": "markdown",
   "id": "75878f4c",
   "metadata": {},
   "source": [
    "## 线性升维\n",
    "sklearn.preprocessing PolynomialFeatures"
   ]
  },
  {
   "cell_type": "code",
   "execution_count": 3,
   "id": "a090d268",
   "metadata": {},
   "outputs": [],
   "source": [
    "from sklearn.preprocessing import PolynomialFeatures\n",
    "import numpy as np"
   ]
  },
  {
   "cell_type": "code",
   "execution_count": 6,
   "id": "6ada6662",
   "metadata": {},
   "outputs": [
    {
     "name": "stdout",
     "output_type": "stream",
     "text": [
      "[[ 2  3]\n",
      " [ 4  5]\n",
      " [ 6  7]\n",
      " [ 8  9]\n",
      " [10 11]]\n"
     ]
    }
   ],
   "source": [
    "x_in = np.arange(2,12,1).reshape(5,2)\n",
    "print(x_in)"
   ]
  },
  {
   "cell_type": "code",
   "execution_count": 12,
   "id": "a9450750",
   "metadata": {},
   "outputs": [
    {
     "name": "stdout",
     "output_type": "stream",
     "text": [
      "[[  1.   2.   3.   6.]\n",
      " [  1.   4.   5.  20.]\n",
      " [  1.   6.   7.  42.]\n",
      " [  1.   8.   9.  72.]\n",
      " [  1.  10.  11. 110.]]\n",
      "2 4\n"
     ]
    }
   ],
   "source": [
    "# 没有平方项\n",
    "poly_1 = PolynomialFeatures(degree=2, interaction_only=True)\n",
    "poly_1_out = poly_1.fit_transform(x_in)\n",
    "print(poly_1_out)\n",
    "print(poly_1.n_input_features_, poly_1.n_output_features_)"
   ]
  },
  {
   "cell_type": "code",
   "execution_count": 13,
   "id": "f00d58d0",
   "metadata": {},
   "outputs": [
    {
     "name": "stdout",
     "output_type": "stream",
     "text": [
      "[[  2.   3.   6.]\n",
      " [  4.   5.  20.]\n",
      " [  6.   7.  42.]\n",
      " [  8.   9.  72.]\n",
      " [ 10.  11. 110.]]\n",
      "2 3\n"
     ]
    }
   ],
   "source": [
    "# 没有平方项，没有常数项\n",
    "poly_2 = PolynomialFeatures(degree=2, interaction_only=True, include_bias=False)\n",
    "poly_2_out = poly_2.fit_transform(x_in)\n",
    "print(poly_2_out)\n",
    "print(poly_2.n_input_features_, poly_2.n_output_features_)"
   ]
  },
  {
   "cell_type": "code",
   "execution_count": 14,
   "id": "ceca2b33",
   "metadata": {},
   "outputs": [
    {
     "name": "stdout",
     "output_type": "stream",
     "text": [
      "[[  1.   2.   3.   4.   6.   9.]\n",
      " [  1.   4.   5.  16.  20.  25.]\n",
      " [  1.   6.   7.  36.  42.  49.]\n",
      " [  1.   8.   9.  64.  72.  81.]\n",
      " [  1.  10.  11. 100. 110. 121.]]\n",
      "[[0 0]\n",
      " [1 0]\n",
      " [0 1]\n",
      " [2 0]\n",
      " [1 1]\n",
      " [0 2]]\n"
     ]
    }
   ],
   "source": [
    "# 全部项\n",
    "poly_3 = PolynomialFeatures(degree=2, interaction_only=False, include_bias=True)\n",
    "poly_3_out = poly_3.fit_transform(x_in)\n",
    "print(poly_3_out)\n",
    "print(poly_3.powers_)"
   ]
  },
  {
   "cell_type": "code",
   "execution_count": null,
   "id": "01826400",
   "metadata": {},
   "outputs": [],
   "source": []
  }
 ],
 "metadata": {
  "kernelspec": {
   "display_name": "python3.6",
   "language": "python",
   "name": "python3.6"
  },
  "language_info": {
   "codemirror_mode": {
    "name": "ipython",
    "version": 3
   },
   "file_extension": ".py",
   "mimetype": "text/x-python",
   "name": "python",
   "nbconvert_exporter": "python",
   "pygments_lexer": "ipython3",
   "version": "3.9.7"
  },
  "toc": {
   "base_numbering": 1,
   "nav_menu": {},
   "number_sections": true,
   "sideBar": true,
   "skip_h1_title": false,
   "title_cell": "Table of Contents",
   "title_sidebar": "Contents",
   "toc_cell": false,
   "toc_position": {},
   "toc_section_display": true,
   "toc_window_display": true
  }
 },
 "nbformat": 4,
 "nbformat_minor": 5
}
