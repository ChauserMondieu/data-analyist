{
 "cells": [
  {
   "cell_type": "markdown",
   "id": "46f19fc3",
   "metadata": {},
   "source": [
    "# 获取数据\n",
    "MINST"
   ]
  },
  {
   "cell_type": "code",
   "execution_count": 2,
   "id": "5d6a64a2",
   "metadata": {},
   "outputs": [],
   "source": [
    "from sklearn.datasets import fetch_openml\n",
    "\n",
    "mnist = fetch_openml('mnist_784',version=1, data_home=\"./\")"
   ]
  },
  {
   "cell_type": "code",
   "execution_count": 3,
   "id": "40128c80",
   "metadata": {},
   "outputs": [
    {
     "name": "stdout",
     "output_type": "stream",
     "text": [
      "data\n",
      "target\n",
      "frame\n",
      "categories\n",
      "feature_names\n",
      "target_names\n",
      "DESCR\n",
      "details\n",
      "url\n"
     ]
    }
   ],
   "source": [
    "for key in mnist.keys():\n",
    "    print(key)"
   ]
  },
  {
   "cell_type": "code",
   "execution_count": 4,
   "id": "9b858766",
   "metadata": {},
   "outputs": [
    {
     "data": {
      "text/plain": [
       "(70000, 784)"
      ]
     },
     "execution_count": 4,
     "metadata": {},
     "output_type": "execute_result"
    }
   ],
   "source": [
    "# 获取data\n",
    "mnist_data = mnist[\"data\"]\n",
    "mnist_data.shape"
   ]
  },
  {
   "cell_type": "code",
   "execution_count": 5,
   "id": "ab08ad98",
   "metadata": {},
   "outputs": [
    {
     "data": {
      "text/plain": [
       "(70000,)"
      ]
     },
     "execution_count": 5,
     "metadata": {},
     "output_type": "execute_result"
    }
   ],
   "source": [
    "# 获取target\n",
    "mnist_target = mnist[\"target\"]\n",
    "mnist_target.shape"
   ]
  },
  {
   "cell_type": "markdown",
   "id": "c6fde761",
   "metadata": {},
   "source": [
    "## 查看数据"
   ]
  },
  {
   "cell_type": "markdown",
   "id": "d8b5dd8d",
   "metadata": {},
   "source": [
    "数据中的相互转化\n",
    "1. pandas DataFrame 转换为numpy array 方法为pd.values pd.array 或 pd.to_numpy()\n",
    "2. pandas DataFrame 转换为python list 方法为 pd.values.tolist()\n",
    "3. numpy array 转换为python list 方法为 np.tolist()"
   ]
  },
  {
   "cell_type": "markdown",
   "id": "a9fe348c",
   "metadata": {},
   "source": [
    "pandas 中DataFrame相当于numpy二维向量， Series相当于numpy一维向量\n",
    "1. pandas DataFrame 获取一维向量Series 方法为 pd.loc[] 或 pd.iloc[]\n",
    "2. numpy array 获取一维向量 方法为 np[]"
   ]
  },
  {
   "cell_type": "code",
   "execution_count": 6,
   "id": "2caa2b8d",
   "metadata": {},
   "outputs": [
    {
     "data": {
      "text/plain": [
       "(-0.5, 27.5, 27.5, -0.5)"
      ]
     },
     "execution_count": 6,
     "metadata": {},
     "output_type": "execute_result"
    },
    {
     "data": {
      "image/png": "[encoded data removed]",
      "text/plain": [
       "<Figure size 432x288 with 1 Axes>"
      ]
     },
     "metadata": {
      "needs_background": "light"
     },
     "output_type": "display_data"
    }
   ],
   "source": [
    "%matplotlib inline\n",
    "import matplotlib\n",
    "from matplotlib import pyplot as plt\n",
    "import pandas as pd\n",
    "import numpy as np\n",
    "\n",
    "some_digit = mnist_data.loc[36000,:]\n",
    "some_digit_image = some_digit.values.reshape(28, 28)\n",
    "plt.imshow(some_digit_image, cmap=plt.cm.binary, interpolation='nearest')\n",
    "plt.axis('off')"
   ]
  },
  {
   "cell_type": "code",
   "execution_count": 7,
   "id": "53d03ffb",
   "metadata": {},
   "outputs": [
    {
     "data": {
      "text/plain": [
       "'9'"
      ]
     },
     "execution_count": 7,
     "metadata": {},
     "output_type": "execute_result"
    }
   ],
   "source": [
    "mnist_target.loc[36000]"
   ]
  },
  {
   "cell_type": "markdown",
   "id": "77541d7d",
   "metadata": {},
   "source": [
    "## 区分训练集和测试集"
   ]
  },
  {
   "cell_type": "code",
   "execution_count": 8,
   "id": "90ee24c5",
   "metadata": {},
   "outputs": [
    {
     "name": "stdout",
     "output_type": "stream",
     "text": [
      "<class 'numpy.ndarray'>\n"
     ]
    }
   ],
   "source": [
    "mnist_data_train, mnist_data_test, mnist_target_train, mnist_target_test = \\\n",
    "mnist_data.loc[:60000,:].values, mnist_data.loc[60000:,:].values, \\\n",
    "mnist_target.loc[:60000].to_numpy(), mnist_target.loc[60000:].to_numpy()\n",
    "print(type(mnist_target_train))"
   ]
  },
  {
   "cell_type": "markdown",
   "id": "24df60f6",
   "metadata": {},
   "source": [
    "# 训练数据"
   ]
  },
  {
   "cell_type": "markdown",
   "id": "440c7e1b",
   "metadata": {},
   "source": [
    "## 一个二分类器"
   ]
  },
  {
   "cell_type": "markdown",
   "id": "86ce0d17",
   "metadata": {},
   "source": [
    "数据说明\n",
    "训练集<br>\n",
    "mnist_data_train<br>\n",
    "mnist_target_train_9<br>\n",
    "测试集<br>\n",
    "mnist_data_test<br>\n",
    "mnist_target_test_9<br>"
   ]
  },
  {
   "cell_type": "code",
   "execution_count": 9,
   "id": "2d5fbd57",
   "metadata": {},
   "outputs": [
    {
     "name": "stdout",
     "output_type": "stream",
     "text": [
      "5949\n",
      "1009\n"
     ]
    }
   ],
   "source": [
    "mnist_target_train = np.array([int(x) for x in mnist_target_train],dtype=np.int32)\n",
    "mnist_target_train_9 = (mnist_target_train == 9)\n",
    "res_train = np.sum(mnist_target_train_9 == True)\n",
    "print(res_train)\n",
    "mnist_target_test = np.array([int(x) for x in mnist_target_test], dtype=np.int32)\n",
    "mnist_target_test_9 = (mnist_target_test == 9)\n",
    "res_test = np.sum(mnist_target_test_9 == True)\n",
    "print(res_test)"
   ]
  },
  {
   "cell_type": "code",
   "execution_count": 10,
   "id": "4f63e1e2",
   "metadata": {},
   "outputs": [
    {
     "data": {
      "text/plain": [
       "SGDClassifier(random_state=42)"
      ]
     },
     "execution_count": 10,
     "metadata": {},
     "output_type": "execute_result"
    }
   ],
   "source": [
    "from sklearn.linear_model import SGDClassifier\n",
    "sgd_clf = SGDClassifier(random_state=42)\n",
    "sgd_clf.fit(mnist_data_train,mnist_target_train_9)"
   ]
  },
  {
   "cell_type": "code",
   "execution_count": 11,
   "id": "75dafd6f",
   "metadata": {},
   "outputs": [
    {
     "name": "stdout",
     "output_type": "stream",
     "text": [
      "(1, 784)\n"
     ]
    },
    {
     "data": {
      "text/plain": [
       "array([False])"
      ]
     },
     "execution_count": 11,
     "metadata": {},
     "output_type": "execute_result"
    }
   ],
   "source": [
    "print(sgd_clf.coef_.shape)\n",
    "sgd_clf.predict(some_digit.values.reshape(1,-1))"
   ]
  },
  {
   "cell_type": "markdown",
   "id": "ddc091e5",
   "metadata": {},
   "source": [
    "## 二分类器模型验证"
   ]
  },
  {
   "cell_type": "markdown",
   "id": "e1df6e75",
   "metadata": {},
   "source": [
    "### 使用k折交叉验证\n",
    "1. 分层 - StratifiedShuffledSplit\n",
    "2. k折 - StratifiedKFold\n",
    "\n",
    "* 注意，k折交叉验证应当发生在训练集上而非测试集上，只有当模型完全满意时才可以使用测试集"
   ]
  },
  {
   "cell_type": "code",
   "execution_count": 12,
   "id": "f8f5c9b4",
   "metadata": {},
   "outputs": [
    {
     "name": "stdout",
     "output_type": "stream",
     "text": [
      "0.9532023398830058\n",
      "0.941\n",
      "0.9441\n"
     ]
    }
   ],
   "source": [
    "from sklearn.model_selection import StratifiedKFold\n",
    "from sklearn.base import clone\n",
    "\n",
    "skfolds = StratifiedKFold(n_splits=3, shuffle=True, random_state=42)\n",
    "for train_index, test_index in skfolds.split(mnist_data_train, mnist_target_train_9):\n",
    "    clone_clf = clone(sgd_clf)\n",
    "    x_train_fold = mnist_data_train[train_index]\n",
    "    y_train_fold = mnist_target_train_9[train_index]\n",
    "    x_test_fold = mnist_data_train[test_index]\n",
    "    y_test_fold = mnist_target_train_9[test_index]\n",
    "    clone_clf.fit(x_train_fold, y_train_fold)\n",
    "    y_pred = clone_clf.predict(x_test_fold)\n",
    "    n_correct = sum(y_pred == y_test_fold)\n",
    "    precision = n_correct / len(y_pred)\n",
    "    print(precision)"
   ]
  },
  {
   "cell_type": "markdown",
   "id": "585a22d8",
   "metadata": {},
   "source": [
    "### 交叉验证"
   ]
  },
  {
   "cell_type": "markdown",
   "id": "0fa1af2b",
   "metadata": {},
   "source": [
    "1. 使用k折交叉验证时同样会改变模型的参数\n",
    "2. cross_val_score 的目的是将训练集分为k折，其中一折进行预测，剩余折进行训练\n",
    "3. cross_val_score 在区分数据集的同时还会对模型进行训练，最后输出的模型是每一次训练后所有超参数的平均值"
   ]
  },
  {
   "cell_type": "code",
   "execution_count": 13,
   "id": "61ee46eb",
   "metadata": {},
   "outputs": [
    {
     "data": {
      "text/plain": [
       "array([0.95145243, 0.88365   , 0.94165   ])"
      ]
     },
     "execution_count": 13,
     "metadata": {},
     "output_type": "execute_result"
    }
   ],
   "source": [
    "from sklearn.model_selection import cross_val_score\n",
    "\n",
    "cross_val_score(sgd_clf, mnist_data_train, mnist_target_train_9, cv=3, scoring='accuracy')"
   ]
  },
  {
   "cell_type": "markdown",
   "id": "ecf90d25",
   "metadata": {},
   "source": [
    "### 自定义分类器"
   ]
  },
  {
   "cell_type": "code",
   "execution_count": 14,
   "id": "f288630b",
   "metadata": {},
   "outputs": [
    {
     "data": {
      "text/plain": [
       "array([0.89930503, 0.8999    , 0.90335   ])"
      ]
     },
     "execution_count": 14,
     "metadata": {},
     "output_type": "execute_result"
    }
   ],
   "source": [
    "from sklearn.base import BaseEstimator\n",
    "from sklearn.model_selection import cross_val_score\n",
    "\n",
    "class Never9Classifier(BaseEstimator):\n",
    "    def fit(self, X, y=None):\n",
    "        pass\n",
    "    \n",
    "    def predict(self, X):\n",
    "        return np.zeros((len(X), 1), dtype=bool)\n",
    "    \n",
    "never_9_clf = Never9Classifier()\n",
    "cross_val_score(never_9_clf, mnist_data_train, mnist_target_train_9, cv=3, scoring='accuracy')"
   ]
  },
  {
   "cell_type": "markdown",
   "id": "10f8a788",
   "metadata": {},
   "source": [
    "### 混淆矩阵查看分类正确率\n",
    "* 我们经常使用实际发生概率较小的事件作为1事件，对其的预测成为“真预测”\n",
    "* 一句话理解：准确率计算预测为真的样本中实际为真的概率；召回率计算实际为真的样本中预测为真的概率\n",
    "\n",
    "<table border=\"1\" style=\"float:center; text-align: center\">\n",
    "    <tr>\n",
    "        <th></th>\n",
    "        <th>预测为真</th>\n",
    "        <th>预测为假</th>\n",
    "    </tr>\n",
    "    <tr>\n",
    "        <td>实际为真</td>\n",
    "        <td>True Positive</td>\n",
    "        <td>False Negative</td>\n",
    "    </tr>\n",
    "        <tr>\n",
    "        <td>实际为假</td>\n",
    "        <td>False Positive</td>\n",
    "        <td>True Negative</td>\n",
    "    </tr>\n",
    "</table>\n",
    "\n",
    "1. 准确率\n",
    "$$ precision = \n",
    "   \\frac{TruePositive}{TruePositive + FalsePositive}\n",
    "$$\n",
    "<br>\n",
    "2. 召回率\n",
    "$$ callback = \n",
    "   \\frac{TruePositive}{TruePositive + FalseNegative}\n",
    "$$\n",
    "3. F1\n",
    "$$ f1 = \n",
    "    \\frac{2}{\\frac{1}{precision} + \\frac{1}{recall}}\n",
    "$$"
   ]
  },
  {
   "cell_type": "markdown",
   "id": "9b61b297",
   "metadata": {},
   "source": [
    "混乱矩阵计算公式为\n",
    "1. sklearn.metrics confusion_matrix"
   ]
  },
  {
   "cell_type": "code",
   "execution_count": 15,
   "id": "26245964",
   "metadata": {},
   "outputs": [
    {
     "data": {
      "text/plain": [
       "array([[51427,  2625],\n",
       "       [ 1840,  4109]])"
      ]
     },
     "execution_count": 15,
     "metadata": {},
     "output_type": "execute_result"
    }
   ],
   "source": [
    "from sklearn.model_selection import cross_val_predict\n",
    "from sklearn.metrics import confusion_matrix\n",
    "\n",
    "y_train_pred = cross_val_predict(sgd_clf, mnist_data_train, mnist_target_train_9, cv=3)\n",
    "y_confusion_matrix = confusion_matrix(mnist_target_train_9, y_train_pred)\n",
    "y_confusion_matrix"
   ]
  },
  {
   "cell_type": "markdown",
   "id": "f943fec0",
   "metadata": {},
   "source": [
    "准确率和召回率的计算公式\n",
    "1. 准确率 sklearn.metrics precision_score\n",
    "2. 召回率 sklearn.metrics recall_score\n",
    "3. F1值 sklearn.metrics f1_score"
   ]
  },
  {
   "cell_type": "code",
   "execution_count": 16,
   "id": "dd8c0c69",
   "metadata": {},
   "outputs": [
    {
     "name": "stdout",
     "output_type": "stream",
     "text": [
      "precision: 0.6102\n",
      "recall: 0.6907\n",
      "f1: 0.6480\n"
     ]
    }
   ],
   "source": [
    "from sklearn.metrics import precision_score\n",
    "from sklearn.metrics import recall_score\n",
    "from sklearn.metrics import f1_score\n",
    "\n",
    "pre_score = precision_score(mnist_target_train_9, y_train_pred)\n",
    "print(\"precision: {:.4f}\".format(pre_score))\n",
    "rec_score = recall_score(mnist_target_train_9, y_train_pred)\n",
    "print(\"recall: {:.4f}\".format(rec_score))\n",
    "f1_score = f1_score(mnist_target_train_9,y_train_pred)\n",
    "print(\"f1: {:.4f}\".format(f1_score))"
   ]
  },
  {
   "cell_type": "markdown",
   "id": "b8721e9e",
   "metadata": {},
   "source": [
    "### 模型参数"
   ]
  },
  {
   "cell_type": "code",
   "execution_count": 17,
   "id": "c24d589d",
   "metadata": {},
   "outputs": [
    {
     "name": "stdout",
     "output_type": "stream",
     "text": [
      "[-1476.5021733]\n"
     ]
    },
    {
     "data": {
      "text/plain": [
       "array([False])"
      ]
     },
     "execution_count": 17,
     "metadata": {},
     "output_type": "execute_result"
    }
   ],
   "source": [
    "y_scores = sgd_clf.decision_function([some_digit])\n",
    "print(y_scores)\n",
    "threshold = 0\n",
    "y_some_digit_pred = (y_scores > threshold)\n",
    "y_some_digit_pred"
   ]
  },
  {
   "cell_type": "markdown",
   "id": "3dd2a575",
   "metadata": {},
   "source": [
    "### 确定threshold参数值"
   ]
  },
  {
   "cell_type": "markdown",
   "id": "35590f98",
   "metadata": {},
   "source": [
    "#### precision_recall 曲线"
   ]
  },
  {
   "cell_type": "markdown",
   "id": "37e6eb2e",
   "metadata": {},
   "source": [
    "cross_val_predict 类中<br>\n",
    "method 设定为 decision_function<br>\n",
    "这样可以得到每一个数据点的预测值<br>"
   ]
  },
  {
   "cell_type": "code",
   "execution_count": 18,
   "id": "c5820f10",
   "metadata": {},
   "outputs": [
    {
     "name": "stdout",
     "output_type": "stream",
     "text": [
      "[0.10190483 0.10188944 0.10189119 ... 1.         1.         1.        ]\n",
      "[1.00000000e+00 9.99831905e-01 9.99831905e-01 ... 3.36190956e-04\n",
      " 1.68095478e-04 0.00000000e+00]\n",
      "[-59325.80369791 -59311.67496218 -59308.64095893 ...  20333.83290298\n",
      "  20858.37233405  21028.6272405 ]\n"
     ]
    }
   ],
   "source": [
    "from sklearn.model_selection import cross_val_predict\n",
    "from sklearn.metrics import precision_recall_curve\n",
    "\n",
    "y_scores = cross_val_predict(sgd_clf, mnist_data_train, mnist_target_train_9, \n",
    "                             cv=3, method=\"decision_function\")\n",
    "precisions, recalls, thresholds = precision_recall_curve(mnist_target_train_9, y_scores)\n",
    "print(precisions)\n",
    "print(recalls)\n",
    "print(thresholds)"
   ]
  },
  {
   "cell_type": "code",
   "execution_count": 19,
   "id": "50e3a105",
   "metadata": {},
   "outputs": [
    {
     "data": {
      "image/png": "[encoded data removed]",
      "text/plain": [
       "<Figure size 1600x640 with 2 Axes>"
      ]
     },
     "metadata": {
      "needs_background": "light"
     },
     "output_type": "display_data"
    }
   ],
   "source": [
    "# print(precisions.shape)\n",
    "# print(recalls.shape)\n",
    "# print(thresholds.shape)\n",
    "\n",
    "def plot_precision_recall_vs_threshold(precisions, recalls, thresholds):\n",
    "    fig,axes = plt.subplots(1,2,figsize=(20,8),dpi=80)\n",
    "    ax1 = axes[0]\n",
    "    ax2 = axes[1]\n",
    "    ax1.plot(thresholds,precisions[:-1],\n",
    "             lw=1,ls='--',color='blue',\n",
    "             label='Precision')\n",
    "    ax1.plot(thresholds,recalls[:-1],\n",
    "             lw=1,ls='-',color='purple',\n",
    "             label='Recalls')\n",
    "    ax1.set_title('precision vs recall on various thresholds')\n",
    "    ax1.set_xlabel('thresholds')\n",
    "    ax1.legend()\n",
    "    ax1.grid()\n",
    "    ax1.set_ylim([-0.2,1.2])\n",
    "    \n",
    "    ax2.plot(recalls, precisions, \n",
    "             ls='-', lw=2, color='blue',\n",
    "             label='line')\n",
    "    ax2.set_xlabel('recalls')\n",
    "    ax2.set_ylabel('precisions')\n",
    "    ax2.legend()\n",
    "    ax2.grid()\n",
    "  \n",
    "plot_precision_recall_vs_threshold(precisions, recalls, thresholds)"
   ]
  },
  {
   "cell_type": "markdown",
   "id": "12226e63",
   "metadata": {},
   "source": [
    "1. 接下来通过控制precision的值找到相应的threshold\n",
    "2. 通过precision_score(label,predict)以及recall_score(label,predict)计算相应的值\n",
    "3. 进行模型评估"
   ]
  },
  {
   "cell_type": "markdown",
   "id": "2a6b12f5",
   "metadata": {},
   "source": [
    "#### ROC曲线 Receiver Operational Curve"
   ]
  },
  {
   "cell_type": "markdown",
   "id": "d978ef2b",
   "metadata": {},
   "source": [
    "<table border=\"1\" style=\"float:center; text-align: center\">\n",
    "    <tr>\n",
    "        <th></th>\n",
    "        <th>预测为真</th>\n",
    "        <th>预测为假</th>\n",
    "    </tr>\n",
    "    <tr>\n",
    "        <td>实际为真</td>\n",
    "        <td>True Positive</td>\n",
    "        <td>False Negative</td>\n",
    "    </tr>\n",
    "        <tr>\n",
    "        <td>实际为假</td>\n",
    "        <td>False Positive</td>\n",
    "        <td>True Negative</td>\n",
    "    </tr>\n",
    "</table>\n",
    "\n",
    "1. TPR True Positive Rate\n",
    "$$\n",
    "TPR = \\frac{TruePositive}{TruePositive + FalseNegative}\n",
    "$$\n",
    "2. FPR False Positive Rate\n",
    "$$\n",
    "FPR = \\frac{FalsePositive}{TrueNegative + FalsePositive}\n",
    "$$\n",
    "\n",
    "* ROC 曲线绘制的是TPR-FPR关系曲线\n",
    "* 我们可以通过AUC(Area Under ROC Curve)判断二分类器的优劣\n",
    "* ROC曲线相当于Positive分类输出值排在Negative分类输出值之前的概率"
   ]
  },
  {
   "cell_type": "code",
   "execution_count": 20,
   "id": "0c8d60e7",
   "metadata": {},
   "outputs": [
    {
     "data": {
      "image/png": "[encoded data removed]",
      "text/plain": [
       "<Figure size 480x480 with 1 Axes>"
      ]
     },
     "metadata": {
      "needs_background": "light"
     },
     "output_type": "display_data"
    }
   ],
   "source": [
    "from sklearn.metrics import roc_curve\n",
    "# y_scores 是所有标注为9的样本的训练后输出值\n",
    "fpr, tpr, thresholds = roc_curve(mnist_target_train_9, y_scores)\n",
    "\n",
    "def plot_roc_curve(fpr, tpr, thresholds):\n",
    "    plt.figure(figsize=(6,6),dpi=80)\n",
    "    plt.plot(fpr, tpr, lw=2, label='label')\n",
    "    plt.plot([0,1],[0,1],ls='--',lw=1)\n",
    "    plt.axis([0,1,0,1])\n",
    "    plt.xlabel('False Positive Rate')\n",
    "    plt.ylabel('False Negative Rate')\n",
    "    plt.legend()\n",
    "    \n",
    "plot_roc_curve(fpr, tpr, thresholds) "
   ]
  },
  {
   "cell_type": "code",
   "execution_count": 21,
   "id": "8de4154f",
   "metadata": {},
   "outputs": [
    {
     "name": "stdout",
     "output_type": "stream",
     "text": [
      "0.9439911072478882\n"
     ]
    }
   ],
   "source": [
    "from sklearn.metrics import roc_auc_score\n",
    "\n",
    "roc_auc_score = roc_auc_score(mnist_target_train_9, y_scores)\n",
    "print(roc_auc_score)"
   ]
  },
  {
   "cell_type": "markdown",
   "id": "de0a2a04",
   "metadata": {},
   "source": [
    "## 随机森林二分类器"
   ]
  },
  {
   "cell_type": "code",
   "execution_count": 22,
   "id": "941ffe2f",
   "metadata": {},
   "outputs": [],
   "source": [
    "from sklearn.ensemble import RandomForestClassifier\n",
    "from sklearn.model_selection import cross_val_predict\n",
    "from sklearn.metrics import roc_curve\n",
    "from sklearn.metrics import roc_auc_score\n",
    "\n",
    "forest_clf = RandomForestClassifier(random_state=42)\n",
    "y_probas_forest = cross_val_predict(forest_clf, mnist_data_train, mnist_target_train_9,\n",
    "                                   cv=3, method=\"predict_proba\")\n",
    "# 输出有两行，选取第一行概率作为预测输出值\n",
    "y_forest_scores = y_probas_forest[:,1]\n",
    "fpr_forest, tpr_forest, thresholds_forest = roc_curve(mnist_target_train_9, y_forest_scores)"
   ]
  },
  {
   "cell_type": "code",
   "execution_count": 23,
   "id": "bdaf6995",
   "metadata": {},
   "outputs": [
    {
     "data": {
      "text/plain": [
       "(0.0, 1.0)"
      ]
     },
     "execution_count": 23,
     "metadata": {},
     "output_type": "execute_result"
    },
    {
     "data": {
      "image/png": "[encoded data removed]",
      "text/plain": [
       "<Figure size 640x640 with 1 Axes>"
      ]
     },
     "metadata": {
      "needs_background": "light"
     },
     "output_type": "display_data"
    }
   ],
   "source": [
    "from matplotlib import pyplot as plt\n",
    "\n",
    "plt.figure(figsize=(8,8), dpi=80)\n",
    "plt.plot(fpr_forest, tpr_forest, lw=2, ls='-', label='Forest')\n",
    "plt.plot(fpr, tpr, lw=2, ls='-', label='LinearSGD')\n",
    "plt.plot([0,1],[0,1],lw=1,ls='--')\n",
    "plt.legend(loc='lower right')\n",
    "plt.xlim([0,1])\n",
    "plt.ylim([0,1])"
   ]
  },
  {
   "cell_type": "code",
   "execution_count": 24,
   "id": "5ff0d3fc",
   "metadata": {},
   "outputs": [
    {
     "data": {
      "text/plain": [
       "0.9954215564780469"
      ]
     },
     "execution_count": 24,
     "metadata": {},
     "output_type": "execute_result"
    }
   ],
   "source": [
    "roc_auc_score(mnist_target_train_9, y_forest_scores)"
   ]
  },
  {
   "cell_type": "markdown",
   "id": "64c63a1c",
   "metadata": {},
   "source": [
    "## 一个多分类器"
   ]
  },
  {
   "cell_type": "markdown",
   "id": "c5746162",
   "metadata": {},
   "source": [
    "1. SGDLinear Classifier实际上是一个 OvA 的多分类器，如果需要区分10个类别，那么相当于训练了10个不同的二分类器\n",
    "2. 参数命名\n",
    "    1. 多分类器名称为 sgd_ova_clf\n",
    "    2. 训练集数据 mnist_data_train | mnist_data\n",
    "    3. 训练集标签 mnist_target_train | mnist_target\n",
    "    4. 训练集标准化后数据 mnist_data_scaled"
   ]
  },
  {
   "cell_type": "code",
   "execution_count": 25,
   "id": "ba091527",
   "metadata": {},
   "outputs": [
    {
     "data": {
      "image/png": "[encoded data removed]",
      "text/plain": [
       "<Figure size 432x288 with 1 Axes>"
      ]
     },
     "metadata": {
      "needs_background": "light"
     },
     "output_type": "display_data"
    }
   ],
   "source": [
    "from matplotlib import pyplot as plt\n",
    "\n",
    "sp_sample = mnist_data.iloc[30000,:]\n",
    "sp_sample_image = sp_sample.values.reshape([28,28])\n",
    "plt.imshow(sp_sample_image,cmap=matplotlib.cm.binary, interpolation='nearest')\n",
    "plt.show()"
   ]
  },
  {
   "cell_type": "code",
   "execution_count": 26,
   "id": "d8c00448",
   "metadata": {},
   "outputs": [
    {
     "data": {
      "text/plain": [
       "array([3], dtype=int32)"
      ]
     },
     "execution_count": 26,
     "metadata": {},
     "output_type": "execute_result"
    }
   ],
   "source": [
    "from sklearn.linear_model import SGDClassifier\n",
    "\n",
    "sgd_ova_clf = SGDClassifier(random_state=42)\n",
    "sgd_ova_clf.fit(mnist_data_train, mnist_target_train)\n",
    "\n",
    "sgd_ova_clf.predict([sp_sample])"
   ]
  },
  {
   "cell_type": "markdown",
   "id": "a472cde7",
   "metadata": {},
   "source": [
    "### 查看OVA多分类器中所有分类结果"
   ]
  },
  {
   "cell_type": "code",
   "execution_count": 27,
   "id": "653a3df1",
   "metadata": {},
   "outputs": [
    {
     "data": {
      "text/plain": [
       "array([[-25497.5109939 ,  -5247.20916597, -12678.41171319,\n",
       "          2062.47013043, -26145.01855649, -10072.47136107,\n",
       "        -18706.62975622, -13442.68260389,  -5500.70377719,\n",
       "         -4497.37322599]])"
      ]
     },
     "execution_count": 27,
     "metadata": {},
     "output_type": "execute_result"
    }
   ],
   "source": [
    "sp_sample_scores = sgd_ova_clf.decision_function([sp_sample])\n",
    "sp_sample_scores"
   ]
  },
  {
   "cell_type": "code",
   "execution_count": 28,
   "id": "46f49aa9",
   "metadata": {},
   "outputs": [
    {
     "data": {
      "text/plain": [
       "3"
      ]
     },
     "execution_count": 28,
     "metadata": {},
     "output_type": "execute_result"
    }
   ],
   "source": [
    "np.argmax(sp_sample_scores)"
   ]
  },
  {
   "cell_type": "code",
   "execution_count": 29,
   "id": "c1d67063",
   "metadata": {},
   "outputs": [
    {
     "data": {
      "text/plain": [
       "3"
      ]
     },
     "execution_count": 29,
     "metadata": {},
     "output_type": "execute_result"
    }
   ],
   "source": [
    "sgd_ova_clf.classes_[3]"
   ]
  },
  {
   "cell_type": "code",
   "execution_count": 30,
   "id": "0c61497d",
   "metadata": {},
   "outputs": [
    {
     "name": "stdout",
     "output_type": "stream",
     "text": [
      "[0.87888917 0.88946985 0.87918399]\n"
     ]
    },
    {
     "name": "stderr",
     "output_type": "stream",
     "text": [
      "/Users/collinsliu/opt/anaconda3/lib/python3.9/site-packages/sklearn/linear_model/_stochastic_gradient.py:574: ConvergenceWarning: Maximum number of iteration reached before convergence. Consider increasing max_iter to improve the fit.\n",
      "  warnings.warn(\"Maximum number of iteration reached before \"\n"
     ]
    },
    {
     "name": "stdout",
     "output_type": "stream",
     "text": [
      "[0.9011314  0.89962714 0.90237003]\n"
     ]
    }
   ],
   "source": [
    "from sklearn.model_selection import cross_val_score\n",
    "from sklearn.preprocessing import StandardScaler\n",
    "\n",
    "sgd_ova_clf_score = cross_val_score(sgd_ova_clf, mnist_data, mnist_target,\n",
    "                                    cv=3, scoring='accuracy')\n",
    "print(sgd_ova_clf_score)\n",
    "scaler = StandardScaler()\n",
    "mnist_data_scaled = scaler.fit_transform(mnist_data.astype(np.float64))\n",
    "sgd_ova_clf_scaled_score = cross_val_score(sgd_ova_clf, mnist_data_scaled, mnist_target,\n",
    "                                           cv=3, scoring='accuracy')\n",
    "print(sgd_ova_clf_scaled_score)"
   ]
  },
  {
   "cell_type": "markdown",
   "id": "4322f23e",
   "metadata": {},
   "source": [
    "### 自定义OVO多分类器"
   ]
  },
  {
   "cell_type": "code",
   "execution_count": 31,
   "id": "5462d1c3",
   "metadata": {},
   "outputs": [
    {
     "data": {
      "text/plain": [
       "OneVsOneClassifier(estimator=SGDClassifier(random_state=42))"
      ]
     },
     "execution_count": 31,
     "metadata": {},
     "output_type": "execute_result"
    }
   ],
   "source": [
    "from sklearn.multiclass import OneVsOneClassifier\n",
    "\n",
    "ovo_clf = OneVsOneClassifier(SGDClassifier(random_state=42))\n",
    "ovo_clf.fit(mnist_data, mnist_target)"
   ]
  },
  {
   "cell_type": "code",
   "execution_count": 32,
   "id": "fbeb8273",
   "metadata": {},
   "outputs": [
    {
     "name": "stdout",
     "output_type": "stream",
     "text": [
      "['3']\n",
      "45\n"
     ]
    }
   ],
   "source": [
    "print(ovo_clf.predict([sp_sample]))\n",
    "print(len(ovo_clf.estimators_))"
   ]
  },
  {
   "cell_type": "markdown",
   "id": "9872cce1",
   "metadata": {},
   "source": [
    "### 误差分析"
   ]
  },
  {
   "cell_type": "markdown",
   "id": "e951debc",
   "metadata": {},
   "source": [
    "#### 混淆矩阵"
   ]
  },
  {
   "cell_type": "code",
   "execution_count": 38,
   "id": "b0ef01e8",
   "metadata": {},
   "outputs": [
    {
     "name": "stderr",
     "output_type": "stream",
     "text": [
      "/Users/collinsliu/opt/anaconda3/lib/python3.9/site-packages/sklearn/linear_model/_stochastic_gradient.py:574: ConvergenceWarning: Maximum number of iteration reached before convergence. Consider increasing max_iter to improve the fit.\n",
      "  warnings.warn(\"Maximum number of iteration reached before \"\n"
     ]
    },
    {
     "ename": "NameError",
     "evalue": "name 'ova_train_predict_train_predict' is not defined",
     "output_type": "error",
     "traceback": [
      "\u001b[0;31m---------------------------------------------------------------------------\u001b[0m",
      "\u001b[0;31mNameError\u001b[0m                                 Traceback (most recent call last)",
      "\u001b[0;32m/var/folders/zh/fmxxp3g1653ccyjmyp5z3bc00000gn/T/ipykernel_37765/228973848.py\u001b[0m in \u001b[0;36m<module>\u001b[0;34m\u001b[0m\n\u001b[1;32m      4\u001b[0m ova_train_predict = cross_val_predict(sgd_ova_clf, mnist_data_scaled, mnist_target,\n\u001b[1;32m      5\u001b[0m                                      cv=3)\n\u001b[0;32m----> 6\u001b[0;31m \u001b[0mova_confusion_matrix\u001b[0m \u001b[0;34m=\u001b[0m \u001b[0mconfusion_matrix\u001b[0m\u001b[0;34m(\u001b[0m\u001b[0mmnist_target\u001b[0m\u001b[0;34m,\u001b[0m \u001b[0mova_train_predict_train_predict\u001b[0m\u001b[0;34m)\u001b[0m\u001b[0;34m\u001b[0m\u001b[0;34m\u001b[0m\u001b[0m\n\u001b[0m\u001b[1;32m      7\u001b[0m \u001b[0mprint\u001b[0m\u001b[0;34m(\u001b[0m\u001b[0mova_confusion_matrix\u001b[0m\u001b[0;34m)\u001b[0m\u001b[0;34m\u001b[0m\u001b[0;34m\u001b[0m\u001b[0m\n\u001b[1;32m      8\u001b[0m \u001b[0mplt\u001b[0m\u001b[0;34m.\u001b[0m\u001b[0mmatshow\u001b[0m\u001b[0;34m(\u001b[0m\u001b[0mova_confusion_matrix\u001b[0m\u001b[0;34m,\u001b[0m \u001b[0mcmap\u001b[0m\u001b[0;34m=\u001b[0m\u001b[0mplt\u001b[0m\u001b[0;34m.\u001b[0m\u001b[0mcm\u001b[0m\u001b[0;34m.\u001b[0m\u001b[0mgray\u001b[0m\u001b[0;34m)\u001b[0m\u001b[0;34m\u001b[0m\u001b[0;34m\u001b[0m\u001b[0m\n",
      "\u001b[0;31mNameError\u001b[0m: name 'ova_train_predict_train_predict' is not defined"
     ]
    }
   ],
   "source": [
    "from sklearn.model_selection import cross_val_predict\n",
    "from sklearn.metrics import confusion_matrix\n",
    "\n",
    "ova_train_predict = cross_val_predict(sgd_ova_clf, mnist_data_scaled, mnist_target,\n",
    "                                     cv=3)"
   ]
  },
  {
   "cell_type": "code",
   "execution_count": 51,
   "id": "e350c920",
   "metadata": {},
   "outputs": [
    {
     "name": "stdout",
     "output_type": "stream",
     "text": [
      "[[6527    0   21    7    8   46   44    8  241    1]\n",
      " [   0 7509   44   26    4   47    9    9  217   12]\n",
      " [  26   31 6187   96   80   28   77   52  399   14]\n",
      " [  28   18  138 6123    2  227   26   48  452   79]\n",
      " [  14   14   48   11 6105   11   40   28  370  183]\n",
      " [  30   18   36  203   62 5208   97   24  567   68]\n",
      " [  35   19   58    2   44  101 6457    6  153    1]\n",
      " [  24   16   69   26   57   15    4 6638  199  245]\n",
      " [  26   68   54  106    5  145   36   11 6327   47]\n",
      " [  28   26   32   82  147   41    1  198  411 5992]]\n"
     ]
    },
    {
     "data": {
      "image/png": "[encoded data removed]",
      "text/plain": [
       "<Figure size 288x288 with 2 Axes>"
      ]
     },
     "metadata": {
      "needs_background": "light"
     },
     "output_type": "display_data"
    }
   ],
   "source": [
    "ova_confusion_matrix = confusion_matrix(mnist_target, ova_train_predict)\n",
    "print(ova_confusion_matrix)\n",
    "plt.matshow(ova_confusion_matrix, cmap=plt.cm.gray)\n",
    "plt.colorbar()\n",
    "plt.show()"
   ]
  },
  {
   "cell_type": "code",
   "execution_count": 55,
   "id": "1bd194f4",
   "metadata": {},
   "outputs": [
    {
     "name": "stdout",
     "output_type": "stream",
     "text": [
      "<class 'numpy.ndarray'>\n"
     ]
    },
    {
     "data": {
      "image/png": "[encoded data removed]",
      "text/plain": [
       "<Figure size 432x288 with 2 Axes>"
      ]
     },
     "metadata": {
      "needs_background": "light"
     },
     "output_type": "display_data"
    }
   ],
   "source": [
    "print(type(ova_confusion_matrix))\n",
    "ova_row_sums = np.sum(ova_confusion_matrix, axis=1, keepdims=True)\n",
    "ova_confusion_matrix_norm = ova_confusion_matrix / ova_row_sums\n",
    "np.fill_diagonal(ova_confusion_matrix_norm,0)\n",
    "\n",
    "plt.imshow(ova_confusion_matrix_norm, cmap=plt.cm.autumn)\n",
    "plt.colorbar()\n",
    "plt.xticks(np.arange(10))\n",
    "plt.yticks(np.arange(10))\n",
    "plt.show()"
   ]
  },
  {
   "cell_type": "markdown",
   "id": "b58b3d1d",
   "metadata": {},
   "source": [
    "#### 处理误差的方法\n",
    "1. 收集更多的数据\n",
    "2. 进行数据预处理\n",
    "3. 构造有助于分类器的特征"
   ]
  },
  {
   "cell_type": "markdown",
   "id": "12a7eebc",
   "metadata": {},
   "source": [
    "## 多标签分类器"
   ]
  },
  {
   "cell_type": "markdown",
   "id": "3f686160",
   "metadata": {},
   "source": [
    "1. 假定有两个标签\n",
    "    1. 标签一： 数字小于3\n",
    "    2. 标签二： 数字是奇数\n",
    "2. 这里使用knn分类器进行分类\n",
    "3. 参数说明\n",
    "    1. mnist_data_train 训练数据\n",
    "    2. target_train_mullabel 训练标签"
   ]
  },
  {
   "cell_type": "code",
   "execution_count": 56,
   "id": "da365cd1",
   "metadata": {},
   "outputs": [
    {
     "data": {
      "text/plain": [
       "KNeighborsClassifier()"
      ]
     },
     "execution_count": 56,
     "metadata": {},
     "output_type": "execute_result"
    }
   ],
   "source": [
    "from sklearn.neighbors import KNeighborsClassifier\n",
    "\n",
    "target_train_small = (mnist_target_train <= 3)\n",
    "target_train_odd = (mnist_target_train % 2 ==1)\n",
    "\n",
    "# 预测函数为一个（2，60001 ）的矩阵，因此单个数据的预测结果是一个（2，）列向量\n",
    "# np.r_ == pd.concat\n",
    "# np.c_ == pd.merge\n",
    "target_train_mullabel = np.c_[target_train_small, target_train_odd]\n",
    "\n",
    "knn_clf = KNeighborsClassifier()\n",
    "knn_clf.fit(mnist_data_train, target_train_mullabel)"
   ]
  },
  {
   "cell_type": "code",
   "execution_count": 57,
   "id": "0d25d1cd",
   "metadata": {},
   "outputs": [
    {
     "data": {
      "text/plain": [
       "array([[ True,  True]])"
      ]
     },
     "execution_count": 57,
     "metadata": {},
     "output_type": "execute_result"
    }
   ],
   "source": [
    "knn_clf.predict([sp_sample])"
   ]
  },
  {
   "cell_type": "code",
   "execution_count": 61,
   "id": "bfea510d",
   "metadata": {},
   "outputs": [
    {
     "name": "stdout",
     "output_type": "stream",
     "text": [
      "0.981992665300666\n",
      "()\n"
     ]
    }
   ],
   "source": [
    "from sklearn.model_selection import cross_val_predict\n",
    "from sklearn.metrics import f1_score\n",
    "\n",
    "target_train_knn_pred = cross_val_predict(knn_clf, mnist_data_train, target_train_mullabel, cv=3)\n",
    "f1_score_knn = f1_score(target_train_mullabel, target_train_knn_pred, average='weighted')"
   ]
  },
  {
   "cell_type": "code",
   "execution_count": 63,
   "id": "bd28428e",
   "metadata": {},
   "outputs": [
    {
     "name": "stdout",
     "output_type": "stream",
     "text": [
      "0.981992665300666\n"
     ]
    }
   ],
   "source": [
    "print(f1_score_knn)"
   ]
  },
  {
   "cell_type": "markdown",
   "id": "4121b299",
   "metadata": {},
   "source": [
    "## 多输出分类器"
   ]
  },
  {
   "cell_type": "markdown",
   "id": "b08c6a73",
   "metadata": {},
   "source": [
    "1. 首先对数据集进行skew操作，添加随机噪声\n",
    "    1. 训练集噪声 noise_train\n",
    "    2. 测试集噪声 noise_test\n",
    "    3. 噪声训练集 mnist_data_train_mod | mnist_target_train_mod\n",
    "    4. 噪声测试集 mnist_data_test_mod | mnist_target_test_mod\n",
    "2. 多输出的每一个输出标签相当于是每一个像素点的预测值\n",
    "3. 多输出分类器只是多标签分类器的一个泛化，一个标签可以有多个值"
   ]
  },
  {
   "cell_type": "code",
   "execution_count": 87,
   "id": "a7096709",
   "metadata": {},
   "outputs": [],
   "source": [
    "from numpy import random as rnd\n",
    "noise_train = rnd.randint(0, 100, (len(mnist_data_train), 784))\n",
    "noise_test = rnd.randint(0, 100, (len(mnist_data_test),784))\n",
    "\n",
    "mnist_data_train_mod = mnist_data_train + noise_train\n",
    "mnist_data_test_mod = mnist_data_test + noise_test\n",
    "mnist_target_train_mod = mnist_data_train\n",
    "mnist_target_test_mod = mnist_data_test"
   ]
  },
  {
   "cell_type": "code",
   "execution_count": 79,
   "id": "b6271c0a",
   "metadata": {},
   "outputs": [
    {
     "data": {
      "text/plain": [
       "Text(0.5, 1.0, 'original digit image')"
      ]
     },
     "execution_count": 79,
     "metadata": {},
     "output_type": "execute_result"
    },
    {
     "data": {
      "image/png": "[encoded data removed]",
      "text/plain": [
       "<Figure size 1600x640 with 2 Axes>"
      ]
     },
     "metadata": {
      "needs_background": "light"
     },
     "output_type": "display_data"
    }
   ],
   "source": [
    "sp_sample_mod = mnist_data_test_mod[2000,:]\n",
    "sp_sample_image_mod = sp_sample_mod.reshape([28,28])\n",
    "plt.figure(figsize=(20,8),dpi=80)\n",
    "plt.subplot(1,2,1).imshow(sp_sample_image_mod, cmap=plt.cm.binary, interpolation='nearest')\n",
    "plt.subplot(1,2,1).set_title(\"skewed digit image\")\n",
    "plt.subplot(1,2,2).imshow(mnist_data_test[2000,:].reshape([28,28]),\n",
    "                         cmap=plt.cm.binary, interpolation='nearest')\n",
    "plt.subplot(1,2,2).set_title(\"original digit image\")"
   ]
  },
  {
   "cell_type": "code",
   "execution_count": 89,
   "id": "da097237",
   "metadata": {},
   "outputs": [
    {
     "data": {
      "text/plain": [
       "Text(0.5, 1.0, 'cleaned digit image')"
      ]
     },
     "execution_count": 89,
     "metadata": {},
     "output_type": "execute_result"
    },
    {
     "data": {
      "image/png": "[encoded data removed]",
      "text/plain": [
       "<Figure size 432x288 with 1 Axes>"
      ]
     },
     "metadata": {
      "needs_background": "light"
     },
     "output_type": "display_data"
    }
   ],
   "source": [
    "from sklearn.neighbors import KNeighborsClassifier\n",
    "\n",
    "knn_mul_clf = KNeighborsClassifier()\n",
    "knn_mul_clf.fit(mnist_data_train_mod, mnist_target_train_mod)\n",
    "clean_digit = knn_mul_clf.predict([mnist_data_test[2000,:]])\n",
    "\n",
    "plt.imshow(clean_digit.reshape([28,28]), cmap=plt.cm.binary,interpolation='nearest')\n",
    "plt.title(\"cleaned digit image\")"
   ]
  },
  {
   "cell_type": "code",
   "execution_count": null,
   "id": "0395ce9d",
   "metadata": {},
   "outputs": [],
   "source": []
  }
 ],
 "metadata": {
  "kernelspec": {
   "display_name": "python3.6",
   "language": "python",
   "name": "python3.6"
  },
  "language_info": {
   "codemirror_mode": {
    "name": "ipython",
    "version": 3
   },
   "file_extension": ".py",
   "mimetype": "text/x-python",
   "name": "python",
   "nbconvert_exporter": "python",
   "pygments_lexer": "ipython3",
   "version": "3.9.7"
  },
  "toc": {
   "base_numbering": 1,
   "nav_menu": {},
   "number_sections": true,
   "sideBar": true,
   "skip_h1_title": false,
   "title_cell": "Table of Contents",
   "title_sidebar": "Contents",
   "toc_cell": false,
   "toc_position": {
    "height": "calc(100% - 180px)",
    "left": "10px",
    "top": "150px",
    "width": "281px"
   },
   "toc_section_display": true,
   "toc_window_display": true
  }
 },
 "nbformat": 4,
 "nbformat_minor": 5
}
