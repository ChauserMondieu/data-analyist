{
 "cells": [
  {
   "cell_type": "markdown",
   "id": "f9044d2f",
   "metadata": {
    "toc": true
   },
   "source": [
    "<h1>Table of Contents<span class=\"tocSkip\"></span></h1>\n",
    "<div class=\"toc\"><ul class=\"toc-item\"><li><span><a href=\"#从文件导入\" data-toc-modified-id=\"从文件导入-1\"><span class=\"toc-item-num\">1&nbsp;&nbsp;</span>从文件导入</a></span></li><li><span><a href=\"#从外部导入\" data-toc-modified-id=\"从外部导入-2\"><span class=\"toc-item-num\">2&nbsp;&nbsp;</span>从外部导入</a></span></li></ul></div>"
   ]
  },
  {
   "cell_type": "code",
   "execution_count": 22,
   "id": "09ea655c",
   "metadata": {},
   "outputs": [],
   "source": [
    "import numpy as np\n",
    "import random"
   ]
  },
  {
   "cell_type": "markdown",
   "id": "c66c00c3",
   "metadata": {},
   "source": [
    "# 从文件导入"
   ]
  },
  {
   "cell_type": "code",
   "execution_count": 24,
   "id": "fab3bcb0",
   "metadata": {},
   "outputs": [
    {
     "data": {
      "text/plain": [
       "(7997, 4)"
      ]
     },
     "execution_count": 24,
     "metadata": {},
     "output_type": "execute_result"
    }
   ],
   "source": [
    "data=np.loadtxt(\"./archive/USvideo_data.csv\",delimiter=',',dtype=\"int32\",skiprows=1,usecols=(0,1,2,3),max_rows=10000)\n",
    "data.shape"
   ]
  },
  {
   "cell_type": "code",
   "execution_count": 7,
   "id": "1cedaed3",
   "metadata": {},
   "outputs": [
    {
     "name": "stdout",
     "output_type": "stream",
     "text": [
      "[5845909  576597   39774  170708]\n"
     ]
    }
   ],
   "source": [
    "print(data[2])"
   ]
  },
  {
   "cell_type": "code",
   "execution_count": 13,
   "id": "2cdaa834",
   "metadata": {},
   "outputs": [
    {
     "name": "stdout",
     "output_type": "stream",
     "text": [
      "[[5845909  576597   39774  170708]\n",
      " [2642103   24975    4542   12829]\n",
      " [1168130   96666     568    6666]\n",
      " ...\n",
      " [ 142908    7088      68     437]\n",
      " [  24532    2148      77       0]\n",
      " [ 144039    1574      59       0]]\n"
     ]
    }
   ],
   "source": [
    "print(data[2:])"
   ]
  },
  {
   "cell_type": "code",
   "execution_count": 14,
   "id": "3c5f5bc5",
   "metadata": {},
   "outputs": [
    {
     "name": "stdout",
     "output_type": "stream",
     "text": [
      "[ 5931 26679 39774 ...    68    77    59]\n"
     ]
    }
   ],
   "source": [
    "print(data[:,2])"
   ]
  },
  {
   "cell_type": "code",
   "execution_count": 15,
   "id": "fff92be7",
   "metadata": {},
   "outputs": [
    {
     "name": "stdout",
     "output_type": "stream",
     "text": [
      "[[  5931  46245]\n",
      " [ 26679      0]\n",
      " [ 39774 170708]\n",
      " ...\n",
      " [    68    437]\n",
      " [    77      0]\n",
      " [    59      0]]\n"
     ]
    }
   ],
   "source": [
    "print(data[:,[2,3]])"
   ]
  },
  {
   "cell_type": "code",
   "execution_count": 26,
   "id": "8023c716",
   "metadata": {},
   "outputs": [
    {
     "data": {
      "text/plain": [
       "array([4766258, 8072651, 6632988, ...,  150501,   26757,  145672])"
      ]
     },
     "execution_count": 26,
     "metadata": {},
     "output_type": "execute_result"
    }
   ],
   "source": [
    " data.sum(axis=1)"
   ]
  },
  {
   "cell_type": "code",
   "execution_count": 28,
   "id": "7621da42",
   "metadata": {},
   "outputs": [
    {
     "data": {
      "text/plain": [
       "array([7510332161,  276001267,   14243015,   36857239])"
      ]
     },
     "execution_count": 28,
     "metadata": {},
     "output_type": "execute_result"
    }
   ],
   "source": [
    "data.sum(axis=0)"
   ]
  },
  {
   "cell_type": "code",
   "execution_count": 32,
   "id": "519fe4ef",
   "metadata": {},
   "outputs": [
    {
     "name": "stdout",
     "output_type": "stream",
     "text": [
      "[[ 0.  1.  2.  3.]\n",
      " [ 4.  5.  6.  7.]\n",
      " [ 8.  9. 10. 11.]]\n",
      "[[ 0.  1.  2.  3.]\n",
      " [ 4.  5. nan nan]\n",
      " [ 8.  9. 10. 11.]]\n"
     ]
    }
   ],
   "source": [
    "t1=np.arange(12).reshape((3,4)).astype(\"float32\")\n",
    "print(t1)\n",
    "t1[1,2:]=np.nan\n",
    "print(t1)\n",
    "# 方法：将nan替换为本列均值\n",
    "for i in range(t1.shape[1 ])"
   ]
  },
  {
   "cell_type": "markdown",
   "id": "2f001c2c",
   "metadata": {},
   "source": [
    "# 从外部导入"
   ]
  },
  {
   "cell_type": "code",
   "execution_count": 11,
   "id": "57449d40",
   "metadata": {},
   "outputs": [
    {
     "name": "stdout",
     "output_type": "stream",
     "text": [
      "[ 97  98  99 100 101 102]\n"
     ]
    },
    {
     "name": "stderr",
     "output_type": "stream",
     "text": [
      "/var/folders/zh/fmxxp3g1653ccyjmyp5z3bc00000gn/T/ipykernel_89829/2888418160.py:2: DeprecationWarning: The binary mode of fromstring is deprecated, as it behaves surprisingly on unicode inputs. Use frombuffer instead\n",
      "  str_array = np.fromstring(str,dtype=np.int8)\n"
     ]
    }
   ],
   "source": [
    "str = 'abcdef'\n",
    "str_array = np.fromstring(str,dtype=np.int8)\n",
    "print(str_array)"
   ]
  },
  {
   "cell_type": "code",
   "execution_count": 13,
   "id": "78a3a5d6",
   "metadata": {},
   "outputs": [
    {
     "name": "stdout",
     "output_type": "stream",
     "text": [
      "[[ 0.  0.  0.  0.  0.]\n",
      " [ 0.  1.  2.  3.  4.]\n",
      " [ 0.  2.  4.  6.  8.]\n",
      " [ 0.  3.  6.  9. 12.]]\n"
     ]
    }
   ],
   "source": [
    "def func(x,y):\n",
    "    return x*y\n",
    "func_array = np.fromfunction(func,(4,5))\n",
    "print(func_array)"
   ]
  },
  {
   "cell_type": "code",
   "execution_count": 21,
   "id": "84e1b3b4",
   "metadata": {},
   "outputs": [
    {
     "name": "stdout",
     "output_type": "stream",
     "text": [
      "[[ 0  1  2  3  4]\n",
      " [ 5  6  7  8  9]\n",
      " [10 11 12 13 14]\n",
      " [15 16 17 18 19]]\n",
      "[0 1 2 3 4]\n",
      "[30 34 38 42 46]\n"
     ]
    }
   ],
   "source": [
    "test = np.arange(20).reshape([4,5])\n",
    "print(test)\n",
    "print(test[0,:])\n",
    "print(np.sum(test,axis=0))"
   ]
  },
  {
   "cell_type": "code",
   "execution_count": 26,
   "id": "a4271dff",
   "metadata": {},
   "outputs": [
    {
     "data": {
      "text/plain": [
       "(10,)"
      ]
     },
     "execution_count": 26,
     "metadata": {},
     "output_type": "execute_result"
    }
   ],
   "source": [
    "s = np.arange(10)\n",
    "t = s.reshape([-1,1])\n",
    "t.shape\n",
    "s.shape"
   ]
  },
  {
   "cell_type": "code",
   "execution_count": null,
   "id": "78e4a5e3",
   "metadata": {},
   "outputs": [],
   "source": []
  }
 ],
 "metadata": {
  "kernelspec": {
   "display_name": "python3.6",
   "language": "python",
   "name": "python3.6"
  },
  "language_info": {
   "codemirror_mode": {
    "name": "ipython",
    "version": 3
   },
   "file_extension": ".py",
   "mimetype": "text/x-python",
   "name": "python",
   "nbconvert_exporter": "python",
   "pygments_lexer": "ipython3",
   "version": "3.9.7"
  },
  "toc": {
   "base_numbering": 1,
   "nav_menu": {},
   "number_sections": true,
   "sideBar": true,
   "skip_h1_title": false,
   "title_cell": "Table of Contents",
   "title_sidebar": "Contents",
   "toc_cell": true,
   "toc_position": {},
   "toc_section_display": true,
   "toc_window_display": false
  }
 },
 "nbformat": 4,
 "nbformat_minor": 5
}
