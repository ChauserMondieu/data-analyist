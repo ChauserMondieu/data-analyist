{
 "cells": [
  {
   "cell_type": "code",
   "execution_count": 2,
   "id": "aa45f5cc",
   "metadata": {},
   "outputs": [],
   "source": [
    "import numpy as np\n",
    "import random\n",
    "from matplotlib import pyplot as plt\n",
    "import random"
   ]
  },
  {
   "cell_type": "code",
   "execution_count": 9,
   "id": "ff260c9a",
   "metadata": {},
   "outputs": [
    {
     "name": "stdout",
     "output_type": "stream",
     "text": [
      "<class 'numpy.ndarray'>\n",
      "<class 'numpy.ndarray'>\n",
      "[4 6 8]\n",
      "<class 'numpy.ndarray'>\n"
     ]
    }
   ],
   "source": [
    "t1 = np.array([1,2,3,4,5])\n",
    "t2 = np.array(range(1,6,2))\n",
    "t3 = np.arange(4,10,2)\n",
    "print(type(t1))\n",
    "print(type(t2))\n",
    "print(t3)\n",
    "print(type(t3))"
   ]
  },
  {
   "cell_type": "code",
   "execution_count": 13,
   "id": "fbf73beb",
   "metadata": {},
   "outputs": [
    {
     "name": "stdout",
     "output_type": "stream",
     "text": [
      "int64\n"
     ]
    }
   ],
   "source": [
    "a = np.arange(2,10,4)\n",
    "print(a.dtype)"
   ]
  },
  {
   "cell_type": "code",
   "execution_count": 17,
   "id": "c4975ab0",
   "metadata": {},
   "outputs": [
    {
     "data": {
      "text/plain": [
       "dtype('int8')"
      ]
     },
     "execution_count": 17,
     "metadata": {},
     "output_type": "execute_result"
    }
   ],
   "source": [
    "t4=np.array(range(1,4),dtype=\"i1\")\n",
    "t4.dtype"
   ]
  },
  {
   "cell_type": "code",
   "execution_count": 18,
   "id": "d7671930",
   "metadata": {},
   "outputs": [
    {
     "data": {
      "text/plain": [
       "dtype('bool')"
      ]
     },
     "execution_count": 18,
     "metadata": {},
     "output_type": "execute_result"
    }
   ],
   "source": [
    "t5=np.array([1,1,0,1,0,0],dtype=bool)\n",
    "t5.dtype"
   ]
  },
  {
   "cell_type": "code",
   "execution_count": 21,
   "id": "9a258bed",
   "metadata": {},
   "outputs": [
    {
     "name": "stdout",
     "output_type": "stream",
     "text": [
      "int8\n",
      "bool\n"
     ]
    }
   ],
   "source": [
    "t6 = t5.astype(\"i1\")\n",
    "print(t6.dtype)\n",
    "print(t5.dtype)"
   ]
  },
  {
   "cell_type": "code",
   "execution_count": 24,
   "id": "2dd76bbf",
   "metadata": {},
   "outputs": [
    {
     "data": {
      "text/plain": [
       "0.9029739844839472"
      ]
     },
     "execution_count": 24,
     "metadata": {},
     "output_type": "execute_result"
    }
   ],
   "source": [
    "random.random() "
   ]
  },
  {
   "cell_type": "code",
   "execution_count": 26,
   "id": "7a90446e",
   "metadata": {},
   "outputs": [
    {
     "name": "stdout",
     "output_type": "stream",
     "text": [
      "[0.36387214 0.85284083 0.52799382 0.69158611 0.51262803 0.94926227\n",
      " 0.73970601 0.78675353 0.04589219 0.27134793]\n",
      "[0. 1. 1. 1. 1. 1. 1. 1. 0. 0.]\n"
     ]
    }
   ],
   "source": [
    "t7 = np.array([random.random() for i in range(10)])\n",
    "t8 = np.round(t7)\n",
    "print(t7)\n",
    "print(t8)"
   ]
  },
  {
   "cell_type": "code",
   "execution_count": 37,
   "id": "dd83aaa5",
   "metadata": {},
   "outputs": [
    {
     "name": "stdout",
     "output_type": "stream",
     "text": [
      "(12,)\n",
      "(3, 4)\n",
      "[ 0  1  2  3  4  5  6  7  8  9 10 11]\n",
      "[[ 0]\n",
      " [ 1]\n",
      " [ 2]\n",
      " [ 3]\n",
      " [ 4]\n",
      " [ 5]\n",
      " [ 6]\n",
      " [ 7]\n",
      " [ 8]\n",
      " [ 9]\n",
      " [10]\n",
      " [11]]\n",
      "[[ 0  1  2  3  4  5  6  7  8  9 10 11]]\n",
      "[ 0  1  2  3  4  5  6  7  8  9 10 11]\n"
     ]
    }
   ],
   "source": [
    "t9=np.arange(12)\n",
    "print(t9.shape)\n",
    "t10=t9.reshape((3,4))\n",
    "print(t10.shape)\n",
    "t11=t10.reshape((12,))\n",
    "print(t11)\n",
    "t12=t10.reshape((12,1))\n",
    "print(t12)\n",
    "t13=t10.reshape((1,12))\n",
    "print(t13)\n",
    "t14=t10.flatten()\n",
    "print(t14)"
   ]
  },
  {
   "cell_type": "code",
   "execution_count": null,
   "id": "91ac7d79",
   "metadata": {},
   "outputs": [],
   "source": []
  }
 ],
 "metadata": {
  "kernelspec": {
   "display_name": "python3.6",
   "language": "python",
   "name": "python3.6"
  },
  "language_info": {
   "codemirror_mode": {
    "name": "ipython",
    "version": 3
   },
   "file_extension": ".py",
   "mimetype": "text/x-python",
   "name": "python",
   "nbconvert_exporter": "python",
   "pygments_lexer": "ipython3",
   "version": "3.9.7"
  }
 },
 "nbformat": 4,
 "nbformat_minor": 5
}
