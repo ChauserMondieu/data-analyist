{
 "cells": [
  {
   "cell_type": "markdown",
   "id": "101852a8",
   "metadata": {},
   "source": [
    "# 正态性检验"
   ]
  },
  {
   "cell_type": "markdown",
   "id": "1b0a7906",
   "metadata": {},
   "source": [
    "## 正态性检验\n",
    "1. 是一种假设检验方法\n",
    "2. 两种检验方法\n",
    "    1. Shapiro-Wilktest W检验，适用于小样本检验(小于50) stats.shapiro(data)\n",
    "    2. Kolmogorov-Smirnov K-S检验，适用于大样本检验（大于5000） stats.kstest(data,'normal')\n",
    "    3. 偏度-峰度检验，适用于大样本检验 stats.normaltest(data)\n",
    "3. 检验方法显著性假设 $\\alpha=0.05$，因此只要 p_value>0.05 即表示选择该假设"
   ]
  },
  {
   "cell_type": "code",
   "execution_count": 9,
   "id": "98080a06",
   "metadata": {},
   "outputs": [],
   "source": [
    "from scipy import stats\n",
    "import numpy as np\n",
    "\n",
    "data = np.array(\n",
    "        [36.3, 41.0, 36.9, 37.1, 44.9, 36.8, 30.0, 37.2, 42.1, 36.7, \n",
    "        32.7, 37.3, 41.2, 36.6, 32.9, 36.5, 33.2, 37.4, 37.5, 33.6, \n",
    "        40.5, 36.5, 37.6, 33.9, 40.2, 36.4, 37.7, 37.7, 40.0, 34.2, \n",
    "        36.2, 37.9, 36.0, 37.9, 35.9, 38.2, 38.3, 35.7, 35.6, 35.1, \n",
    "        38.5, 39.0, 35.5, 34.8, 38.6, 39.4, 35.3, 34.4, 38.8, 39.7, \n",
    "        36.3, 36.8, 32.5, 36.4, 40.5, 36.6, 36.1, 38.2, 38.4, 39.3, \n",
    "        41.0, 31.8, 37.3, 33.1, 37.0, 37.6, 37.0, 38.7, 39.0, 35.8, \n",
    "        37.0, 37.2, 40.7, 37.4, 37.1, 37.8, 35.9, 35.6, 36.7, 34.5, \n",
    "        37.1, 40.3, 36.7, 37.0, 33.9, 40.1, 38.0, 35.2, 34.8, 39.5, \n",
    "        39.9, 36.9, 32.9, 33.8, 39.8, 34.0, 36.8, 35.0, 38.1, 36.9],)"
   ]
  },
  {
   "cell_type": "markdown",
   "id": "52f50b17",
   "metadata": {},
   "source": [
    "### W检验"
   ]
  },
  {
   "cell_type": "code",
   "execution_count": 10,
   "id": "290e378a",
   "metadata": {},
   "outputs": [
    {
     "name": "stdout",
     "output_type": "stream",
     "text": [
      "0.9881396889686584\n",
      "0.518561840057373\n"
     ]
    }
   ],
   "source": [
    "shapiro_test = stats.shapiro(data)\n",
    "print(shapiro_test.statistic)\n",
    "print(shapiro_test.pvalue)"
   ]
  },
  {
   "cell_type": "markdown",
   "id": "c6c42c2f",
   "metadata": {},
   "source": [
    "### K-S检验"
   ]
  },
  {
   "cell_type": "code",
   "execution_count": 19,
   "id": "82b20931",
   "metadata": {},
   "outputs": [
    {
     "name": "stdout",
     "output_type": "stream",
     "text": [
      "1.0\n",
      "0.0\n"
     ]
    }
   ],
   "source": [
    "ks_test = stats.kstest(data, cdf='norm')\n",
    "print(ks_test.statistic)\n",
    "print(ks_test.pvalue)"
   ]
  },
  {
   "cell_type": "markdown",
   "id": "5b86832c",
   "metadata": {},
   "source": [
    "### 偏值-峰值检验"
   ]
  },
  {
   "cell_type": "code",
   "execution_count": 15,
   "id": "d0609efc",
   "metadata": {},
   "outputs": [
    {
     "name": "stdout",
     "output_type": "stream",
     "text": [
      "2.2765544482138784\n",
      "0.32037047319441114\n"
     ]
    }
   ],
   "source": [
    "normal_test = stats.normaltest(data)\n",
    "print(normal_test.statistic)\n",
    "print(normal_test.pvalue)"
   ]
  },
  {
   "cell_type": "markdown",
   "id": "208a9f69",
   "metadata": {},
   "source": [
    "### Q-Q图"
   ]
  },
  {
   "cell_type": "code",
   "execution_count": 20,
   "id": "eabb3815",
   "metadata": {},
   "outputs": [
    {
     "data": {
      "image/png": "[encoded data removed]",
      "text/plain": [
       "<Figure size 432x288 with 1 Axes>"
      ]
     },
     "metadata": {
      "needs_background": "light"
     },
     "output_type": "display_data"
    }
   ],
   "source": [
    "from scipy import stats\n",
    "from matplotlib import pyplot as plt\n",
    "\n",
    "stats.probplot(data,dist='norm', plot=plt)\n",
    "plt.show()"
   ]
  },
  {
   "cell_type": "code",
   "execution_count": null,
   "id": "36b18470",
   "metadata": {},
   "outputs": [],
   "source": []
  }
 ],
 "metadata": {
  "kernelspec": {
   "display_name": "python3.6",
   "language": "python",
   "name": "python3.6"
  },
  "language_info": {
   "codemirror_mode": {
    "name": "ipython",
    "version": 3
   },
   "file_extension": ".py",
   "mimetype": "text/x-python",
   "name": "python",
   "nbconvert_exporter": "python",
   "pygments_lexer": "ipython3",
   "version": "3.9.7"
  },
  "toc": {
   "base_numbering": 1,
   "nav_menu": {},
   "number_sections": true,
   "sideBar": true,
   "skip_h1_title": false,
   "title_cell": "Table of Contents",
   "title_sidebar": "Contents",
   "toc_cell": false,
   "toc_position": {},
   "toc_section_display": true,
   "toc_window_display": true
  }
 },
 "nbformat": 4,
 "nbformat_minor": 5
}
