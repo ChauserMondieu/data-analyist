{
 "cells": [
  {
   "cell_type": "markdown",
   "id": "dd005929",
   "metadata": {
    "toc": true
   },
   "source": [
    "<h1>Table of Contents<span class=\"tocSkip\"></span></h1>\n",
    "<div class=\"toc\"><ul class=\"toc-item\"><li><span><a href=\"#list列表转换为series\" data-toc-modified-id=\"list列表转换为series-1\"><span class=\"toc-item-num\">1&nbsp;&nbsp;</span>list列表转换为series</a></span></li><li><span><a href=\"#dictionary字典转换为series\" data-toc-modified-id=\"dictionary字典转换为series-2\"><span class=\"toc-item-num\">2&nbsp;&nbsp;</span>dictionary字典转换为series</a></span></li><li><span><a href=\"#series-转换为list或dictionary\" data-toc-modified-id=\"series-转换为list或dictionary-3\"><span class=\"toc-item-num\">3&nbsp;&nbsp;</span>series 转换为list或dictionary</a></span></li><li><span><a href=\"#series转换为dataframe\" data-toc-modified-id=\"series转换为dataframe-4\"><span class=\"toc-item-num\">4&nbsp;&nbsp;</span>series转换为dataframe</a></span></li><li><span><a href=\"#建立series\" data-toc-modified-id=\"建立series-5\"><span class=\"toc-item-num\">5&nbsp;&nbsp;</span>建立series</a></span></li></ul></div>"
   ]
  },
  {
   "cell_type": "code",
   "execution_count": 15,
   "id": "06108e2b",
   "metadata": {},
   "outputs": [],
   "source": [
    "import pandas as pd\n",
    "import numpy as np"
   ]
  },
  {
   "cell_type": "markdown",
   "id": "7c5ab135",
   "metadata": {},
   "source": [
    "## list列表转换为series"
   ]
  },
  {
   "cell_type": "code",
   "execution_count": 7,
   "id": "a0e5ee65",
   "metadata": {},
   "outputs": [
    {
     "name": "stdout",
     "output_type": "stream",
     "text": [
      "0     Chinese\n",
      "1        Math\n",
      "2     English\n",
      "3    Computer\n",
      "dtype: object\n"
     ]
    }
   ],
   "source": [
    "courses = [\"Chinese\", \"Math\", \"English\", \"Computer\"]\n",
    "data1 = pd.Series(data=courses)\n",
    "print(data1)"
   ]
  },
  {
   "cell_type": "markdown",
   "id": "ae1aa3c3",
   "metadata": {},
   "source": [
    "## dictionary字典转换为series\n",
    "dictionary的操作<br>\n",
    "<ul>\n",
    "    <li>for key in dict.keys()</li>\n",
    "    <li>for value in dict.values()</li>\n",
    "    <li>for item in dict.items()</li>\n",
    "    <li>for item,value in dict.items()</li>\n",
    "</ul>"
   ]
  },
  {
   "cell_type": "code",
   "execution_count": 6,
   "id": "e69a94b9",
   "metadata": {},
   "outputs": [
    {
     "name": "stdout",
     "output_type": "stream",
     "text": [
      "Chinese      80\n",
      "Math         90\n",
      "English      85\n",
      "Computer    100\n",
      "dtype: int64\n"
     ]
    }
   ],
   "source": [
    "grades = {\"Chinese\":80,\"Math\":90,\"English\":85,\"Computer\":100}\n",
    "data2 = pd.Series(data=grades)\n",
    "print(data2)"
   ]
  },
  {
   "cell_type": "markdown",
   "id": "ce166601",
   "metadata": {},
   "source": [
    "## series 转换为list或dictionary"
   ]
  },
  {
   "cell_type": "code",
   "execution_count": 12,
   "id": "0d410bdc",
   "metadata": {},
   "outputs": [
    {
     "name": "stdout",
     "output_type": "stream",
     "text": [
      "[80, 90, 85, 100]\n",
      "{'Chinese': 80, 'Math': 90, 'English': 85, 'Computer': 100}\n"
     ]
    }
   ],
   "source": [
    "grades = {\"Chinese\":80,\"Math\":90,\"English\":85,\"Computer\":100}\n",
    "data2 = pd.Series(data=grades)\n",
    "numbers = data2.to_list()\n",
    "numberdict = data2.to_dict()\n",
    "print(numbers)\n",
    "print(numberdict)"
   ]
  },
  {
   "cell_type": "markdown",
   "id": "879a95bf",
   "metadata": {},
   "source": [
    "## series转换为dataframe"
   ]
  },
  {
   "cell_type": "code",
   "execution_count": 13,
   "id": "151c5260",
   "metadata": {},
   "outputs": [
    {
     "name": "stdout",
     "output_type": "stream",
     "text": [
      "          grade\n",
      "Chinese      80\n",
      "Math         90\n",
      "English      85\n",
      "Computer    100\n"
     ]
    }
   ],
   "source": [
    "grades = {\"Chinese\":80,\"Math\":90,\"English\":85,\"Computer\":100}\n",
    "data2 = pd.Series(data=grades)\n",
    "df = pd.DataFrame(data2, columns=[\"grade\"])\n",
    "print(df)"
   ]
  },
  {
   "cell_type": "markdown",
   "id": "70c9c633",
   "metadata": {},
   "source": [
    "## 建立series"
   ]
  },
  {
   "cell_type": "code",
   "execution_count": 16,
   "id": "5be94166",
   "metadata": {
    "scrolled": true
   },
   "outputs": [
    {
     "name": "stdout",
     "output_type": "stream",
     "text": [
      "101    10.0\n",
      "102    20.0\n",
      "103    30.0\n",
      "104    40.0\n",
      "105    50.0\n",
      "106    60.0\n",
      "107    70.0\n",
      "108    80.0\n",
      "109    90.0\n",
      "dtype: float64\n"
     ]
    }
   ],
   "source": [
    "s = pd.Series(\n",
    "    data=np.arange(10,100,10), # 数值 10～90 \n",
    "    index=np.arange(101,110),# 索引 101～109\n",
    "    dtype='float' # 类型 float64\n",
    ")\n",
    "print(s)"
   ]
  },
  {
   "cell_type": "code",
   "execution_count": 22,
   "id": "8e207b06",
   "metadata": {},
   "outputs": [
    {
     "name": "stdout",
     "output_type": "stream",
     "text": [
      "a    True\n",
      "b    True\n",
      "c    True\n",
      "d    True\n",
      "dtype: bool\n"
     ]
    }
   ],
   "source": [
    "s = pd.Series(\n",
    "    data=[\"001\",\"002\",\"003\",\"004\"],# data\n",
    "    index=list(\"abcd\")\n",
    "    )\n",
    "# s = s.astype(\"int64\") # 这里面的int是一个字符串\n",
    "s = s.map(float) # 这是float一个函数\n",
    "print(s)"
   ]
  },
  {
   "cell_type": "code",
   "execution_count": 30,
   "id": "83d93e42",
   "metadata": {},
   "outputs": [
    {
     "name": "stdout",
     "output_type": "stream",
     "text": [
      "English     80\n",
      "Chinese     90\n",
      "Math        95\n",
      "Computer    85\n",
      "dtype: int64\n",
      "English      80\n",
      "Chinese      90\n",
      "Math         95\n",
      "Computer     85\n",
      "Physics      90\n",
      "Chemistry    95\n",
      "dtype: int64\n"
     ]
    }
   ],
   "source": [
    "doc = {\"English\":80, \"Chinese\":90,\"Math\":95,\"Computer\":85}\n",
    "grades = pd.Series(data=doc)\n",
    "print(grades)\n",
    "grades = grades.append(pd.Series({\"Physics\":90,\"Chemistry\":95}))\n",
    "print(grades)"
   ]
  },
  {
   "cell_type": "code",
   "execution_count": 32,
   "id": "a3d3872f",
   "metadata": {},
   "outputs": [
    {
     "name": "stdout",
     "output_type": "stream",
     "text": [
      "     course  grade\n",
      "0   Chinese     80\n",
      "1      Math     90\n",
      "2   English     85\n",
      "3  Computer     70\n"
     ]
    }
   ],
   "source": [
    "doc = {\"English\":80, \"Chinese\":90,\"Math\":95,\"Computer\":85}\n",
    "grades = pd.Series(data=doc)\n",
    "# 将index作为新的列名\n",
    "df = data.reset_index()\n",
    "df.columns = [\"course\", \"grade\"]\n",
    "print(df)"
   ]
  },
  {
   "cell_type": "code",
   "execution_count": null,
   "id": "33420b91",
   "metadata": {},
   "outputs": [],
   "source": []
  }
 ],
 "metadata": {
  "kernelspec": {
   "display_name": "python3.6",
   "language": "python",
   "name": "python3.6"
  },
  "language_info": {
   "codemirror_mode": {
    "name": "ipython",
    "version": 3
   },
   "file_extension": ".py",
   "mimetype": "text/x-python",
   "name": "python",
   "nbconvert_exporter": "python",
   "pygments_lexer": "ipython3",
   "version": "3.9.7"
  },
  "toc": {
   "base_numbering": 1,
   "nav_menu": {},
   "number_sections": true,
   "sideBar": true,
   "skip_h1_title": false,
   "title_cell": "Table of Contents",
   "title_sidebar": "Contents",
   "toc_cell": true,
   "toc_position": {},
   "toc_section_display": true,
   "toc_window_display": true
  }
 },
 "nbformat": 4,
 "nbformat_minor": 5
}
