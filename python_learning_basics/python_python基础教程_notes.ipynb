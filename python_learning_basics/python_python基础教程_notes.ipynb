{
 "cells": [
  {
   "cell_type": "markdown",
   "id": "60f8ad78",
   "metadata": {},
   "source": [
    "# 格式设置\n",
    "1. 字符串-列表\n",
    "'{:$>m,.nf}'.format(list)\n",
    "2. 字典\n",
    "'{key}'.format_map(dict)"
   ]
  },
  {
   "cell_type": "code",
   "execution_count": 81,
   "id": "b6161be0",
   "metadata": {},
   "outputs": [
    {
     "name": "stdout",
     "output_type": "stream",
     "text": [
      "Cecil's phone number is: 3258\n"
     ]
    }
   ],
   "source": [
    "phonebook = {'Beth':'9012','Alice':'2341','Cecil':'3258'}\n",
    "print(\"Cecil's phone number is: {Cecil}\".format_map(phonebook))"
   ]
  },
  {
   "cell_type": "markdown",
   "id": "816013b4",
   "metadata": {},
   "source": [
    "# 字符串操作\n",
    "## string\n",
    "1. center \n",
    "2. find\n",
    "3. join\n",
    "4. split\n",
    "5. lower\n",
    "6. title\n",
    "7. islower istitle isupper translate capitalize casefold swapcase upper\n",
    "8. strip lstrip rstrip\n",
    "9. startswith endswith"
   ]
  },
  {
   "cell_type": "code",
   "execution_count": 22,
   "id": "cd324ad2",
   "metadata": {},
   "outputs": [
    {
     "name": "stdout",
     "output_type": "stream",
     "text": [
      "*******************this is one word that needs to be centered*******************\n"
     ]
    }
   ],
   "source": [
    "# center\n",
    "print('this is one word that needs to be centered'.center(80,'*'))"
   ]
  },
  {
   "cell_type": "code",
   "execution_count": 23,
   "id": "c4aa3cca",
   "metadata": {},
   "outputs": [
    {
     "name": "stdout",
     "output_type": "stream",
     "text": [
      "34.00\n"
     ]
    }
   ],
   "source": [
    "# find\n",
    "print(\"{:0<5.2f}\".format('this is one word that needs to be find'.find('find')))"
   ]
  },
  {
   "cell_type": "code",
   "execution_count": 24,
   "id": "0c1e2f7a",
   "metadata": {},
   "outputs": [
    {
     "name": "stdout",
     "output_type": "stream",
     "text": [
      "1+2+3+4+5\n",
      "/usr/bin/env\n",
      "C:\\usr\\bin\\env\n"
     ]
    }
   ],
   "source": [
    "# join\n",
    "seq = ['1','2','3','4','5']\n",
    "car = '+'\n",
    "print(car.join(seq))\n",
    "\n",
    "p = '','usr','bin','env'\n",
    "print('/'.join(p))\n",
    "print('C:'+'\\\\'.join(p))"
   ]
  },
  {
   "cell_type": "code",
   "execution_count": 20,
   "id": "45e78cb6",
   "metadata": {},
   "outputs": [
    {
     "name": "stdout",
     "output_type": "stream",
     "text": [
      "['1', '2', '3', '4', '5']\n",
      "<class 'list'>\n"
     ]
    }
   ],
   "source": [
    "# split\n",
    "print('1+2+3+4+5'.split('+'))\n",
    "print(type('1+2+3+4+5'.split('+')))"
   ]
  },
  {
   "cell_type": "code",
   "execution_count": 25,
   "id": "c6bf5cbb",
   "metadata": {},
   "outputs": [
    {
     "name": "stdout",
     "output_type": "stream",
     "text": [
      "all uppper case!\n",
      "find it!\n",
      "All Uppper Case!\n"
     ]
    }
   ],
   "source": [
    "# lower\n",
    "print('ALL UPPPER CASE!'.lower())\n",
    "if 'case' in 'ALL UPPER CASE'.lower(): \n",
    "    print('find it!') \n",
    "else: print('no!')\n",
    "\n",
    "# title\n",
    "print('ALL UPPPER CASE!'.title())"
   ]
  },
  {
   "cell_type": "code",
   "execution_count": 26,
   "id": "01a1e401",
   "metadata": {},
   "outputs": [
    {
     "name": "stdout",
     "output_type": "stream",
     "text": [
      "theez eez a test\n"
     ]
    }
   ],
   "source": [
    "# replace\n",
    "print('this is a test'.replace('is','eez'))"
   ]
  },
  {
   "cell_type": "code",
   "execution_count": 30,
   "id": "7a2bd3d7",
   "metadata": {},
   "outputs": [
    {
     "name": "stdout",
     "output_type": "stream",
     "text": [
      "this is a sentence with dollar signs!\n"
     ]
    }
   ],
   "source": [
    "# strip\n",
    "print('$$$this is a sentence with dollar signs!$$$'.strip('$$$'))"
   ]
  },
  {
   "cell_type": "code",
   "execution_count": 31,
   "id": "8abedc2f",
   "metadata": {},
   "outputs": [
    {
     "name": "stdout",
     "output_type": "stream",
     "text": [
      "{99: 107, 115: 122}\n",
      "this is an incredible test\n",
      "thiz iz an inkredible tezt\n"
     ]
    }
   ],
   "source": [
    "# translate\n",
    "# first make translation table\n",
    "table = str.maketrans('cs','kz')\n",
    "# next invoke translate method\n",
    "sen = 'this is an incredible test'\n",
    "print(table)\n",
    "print(sen)\n",
    "print(sen.translate(table))"
   ]
  },
  {
   "cell_type": "code",
   "execution_count": 32,
   "id": "d1d1c71d",
   "metadata": {},
   "outputs": [],
   "source": [
    "# isalnum isalpha isdecimal isdigit isidentifier islower isnumeric isprintable isspace istitle isupper"
   ]
  },
  {
   "cell_type": "markdown",
   "id": "1cbddf3a",
   "metadata": {},
   "source": [
    "# 字典"
   ]
  },
  {
   "cell_type": "code",
   "execution_count": 33,
   "id": "76bdcd77",
   "metadata": {},
   "outputs": [
    {
     "data": {
      "text/plain": [
       "{'name': 'mark', 'age': 12}"
      ]
     },
     "execution_count": 33,
     "metadata": {},
     "output_type": "execute_result"
    }
   ],
   "source": [
    "dics = [('name',\"mark\"),('age',12)]\n",
    "dicts = dict(dics)\n",
    "dicts"
   ]
  },
  {
   "cell_type": "code",
   "execution_count": 37,
   "id": "462bdb69",
   "metadata": {},
   "outputs": [
    {
     "data": {
      "text/plain": [
       "{'name': 'mark', 'age': 22}"
      ]
     },
     "execution_count": 37,
     "metadata": {},
     "output_type": "execute_result"
    }
   ],
   "source": [
    "dicts = dict(name='mark', age=22)\n",
    "dicts"
   ]
  },
  {
   "cell_type": "code",
   "execution_count": 40,
   "id": "9e317dde",
   "metadata": {},
   "outputs": [
    {
     "data": {
      "text/plain": [
       "{'name': 'mark', 'age': 32}"
      ]
     },
     "execution_count": 40,
     "metadata": {},
     "output_type": "execute_result"
    }
   ],
   "source": [
    "dicts = {'name':'mark','age':32}\n",
    "dicts"
   ]
  },
  {
   "cell_type": "code",
   "execution_count": 47,
   "id": "3a9945df",
   "metadata": {},
   "outputs": [
    {
     "data": {
      "text/plain": [
       "[None,\n",
       " None,\n",
       " None,\n",
       " None,\n",
       " None,\n",
       " None,\n",
       " None,\n",
       " None,\n",
       " None,\n",
       " None,\n",
       " None,\n",
       " None,\n",
       " None,\n",
       " None,\n",
       " None,\n",
       " None,\n",
       " None,\n",
       " None,\n",
       " None,\n",
       " None,\n",
       " None,\n",
       " None,\n",
       " None,\n",
       " None,\n",
       " None,\n",
       " None,\n",
       " None,\n",
       " None,\n",
       " None,\n",
       " None,\n",
       " None,\n",
       " None,\n",
       " None,\n",
       " None,\n",
       " None,\n",
       " None,\n",
       " None,\n",
       " None,\n",
       " None,\n",
       " None,\n",
       " None,\n",
       " None,\n",
       " 'mark']"
      ]
     },
     "execution_count": 47,
     "metadata": {},
     "output_type": "execute_result"
    }
   ],
   "source": [
    "dicts = {}\n",
    "dicts[42] = 'mark'\n",
    "dicts\n",
    "\n",
    "lists = [None] * 43\n",
    "lists[42] = 'mark'\n",
    "lists"
   ]
  },
  {
   "cell_type": "markdown",
   "id": "1665db48",
   "metadata": {},
   "source": [
    "## 深浅复制"
   ]
  },
  {
   "cell_type": "code",
   "execution_count": 52,
   "id": "e95d6107",
   "metadata": {},
   "outputs": [
    {
     "name": "stdout",
     "output_type": "stream",
     "text": [
      "{'foo': 'a', 'bar': 'b', 'tar': ['foo', 'bar', 'tar']}\n",
      "{'bar': 'b', 'tar': ['foo', 'bar', 'tar']}\n",
      "====================\n",
      "{'foo': 'a', 'bar': 'b', 'tar': ['foo', 'tar']}\n",
      "{'foo': 'a', 'bar': 'b', 'tar': ['foo', 'tar']}\n"
     ]
    }
   ],
   "source": [
    "# 浅复制： 如果是基本类型或不可变类型【元组、字符串】，直接复制；如果是引用类型，或可变类型【直接可以在原地修改】直接复制引用\n",
    "a = {\"foo\":\"a\",\"bar\":\"b\",\"tar\":[\"foo\",\"bar\",\"tar\"]}\n",
    "b = a.copy()\n",
    "del b[\"foo\"]\n",
    "print(a)\n",
    "print(b)\n",
    "print(\"====================\")\n",
    "c = a.copy()\n",
    "c['tar'].remove('bar')\n",
    "print(a)\n",
    "print(c)"
   ]
  },
  {
   "cell_type": "code",
   "execution_count": 54,
   "id": "8eaa3566",
   "metadata": {},
   "outputs": [
    {
     "name": "stdout",
     "output_type": "stream",
     "text": [
      "{'foo': 'a', 'bar': 'b', 'tar': ['foo', 'bar', 'tar']}\n",
      "{'foo': 'a', 'bar': 'b', 'tar': ['foo', 'bar']}\n"
     ]
    }
   ],
   "source": [
    "from copy import deepcopy\n",
    "\n",
    "a = {\"foo\":\"a\",\"bar\":\"b\",\"tar\":[\"foo\",\"bar\",\"tar\"]}\n",
    "d = deepcopy(a)\n",
    "d['tar'].remove('tar')\n",
    "print(a)\n",
    "print(d)"
   ]
  },
  {
   "cell_type": "markdown",
   "id": "f339d486",
   "metadata": {},
   "source": [
    "## 函数操作\n",
    "1. copy\n",
    "2. fromkeys\n",
    "3. get\n",
    "4. setdefault\n",
    "5. items\n",
    "6. keys\n",
    "6. values\n",
    "7. pop popitem\n",
    "8. update"
   ]
  },
  {
   "cell_type": "code",
   "execution_count": 72,
   "id": "a5f5b2f8",
   "metadata": {},
   "outputs": [
    {
     "data": {
      "text/plain": [
       "{'name': 'unknown', 'age': 'unknown'}"
      ]
     },
     "execution_count": 72,
     "metadata": {},
     "output_type": "execute_result"
    }
   ],
   "source": [
    "# fromkeys(list,str)\n",
    "keys = ['name','age']\n",
    "dicts = {}.fromkeys(keys,'unknown')\n",
    "dicts"
   ]
  },
  {
   "cell_type": "code",
   "execution_count": 73,
   "id": "064720e0",
   "metadata": {},
   "outputs": [
    {
     "name": "stdout",
     "output_type": "stream",
     "text": [
      "unknown\n",
      "None\n"
     ]
    }
   ],
   "source": [
    "# dict.get(key) 相当于 dict[key]，但是对于不存在的值会返回None\n",
    "print(dicts['name'])\n",
    "print(dicts.get(\"gender\"))"
   ]
  },
  {
   "cell_type": "code",
   "execution_count": 74,
   "id": "10596f8d",
   "metadata": {},
   "outputs": [
    {
     "name": "stdout",
     "output_type": "stream",
     "text": [
      "{'name': 'unknown', 'age': 'unknown'}\n",
      "N/A\n",
      "{'name': 'unknown', 'age': 'unknown', 'gender': 'N/A'}\n"
     ]
    }
   ],
   "source": [
    "# setdefault() 相当于get,但是当value不存在时，会返回指定的值\n",
    "print(dicts)\n",
    "print(dicts.setdefault('gender','N/A'))\n",
    "print(dicts)"
   ]
  },
  {
   "cell_type": "code",
   "execution_count": 61,
   "id": "b8eeef1c",
   "metadata": {},
   "outputs": [
    {
     "name": "stdout",
     "output_type": "stream",
     "text": [
      "dict_items([('name', 'unknown'), ('age', 'unknown')])\n",
      "<class 'dict_items'>\n",
      "True\n"
     ]
    }
   ],
   "source": [
    "# items()\n",
    "# 返回值为特殊的dict_item类型\n",
    "print(dicts.items())\n",
    "print(type(dicts.items()))\n",
    "print(('name','unknown') in dicts.items())"
   ]
  },
  {
   "cell_type": "code",
   "execution_count": 62,
   "id": "b6db925f",
   "metadata": {},
   "outputs": [
    {
     "name": "stdout",
     "output_type": "stream",
     "text": [
      "dict_keys(['name', 'age'])\n"
     ]
    }
   ],
   "source": [
    "# keys()\n",
    "print(dicts.keys())"
   ]
  },
  {
   "cell_type": "code",
   "execution_count": 63,
   "id": "afed227f",
   "metadata": {},
   "outputs": [
    {
     "name": "stdout",
     "output_type": "stream",
     "text": [
      "dict_values(['unknown', 'unknown'])\n"
     ]
    }
   ],
   "source": [
    "# values()\n",
    "print(dicts.values())"
   ]
  },
  {
   "cell_type": "code",
   "execution_count": 67,
   "id": "4bf865ef",
   "metadata": {},
   "outputs": [
    {
     "name": "stdout",
     "output_type": "stream",
     "text": [
      "('c', 3)\n",
      "{'a': 1, 'b': 2}\n",
      "1\n",
      "{'b': 2, 'c': 3}\n"
     ]
    }
   ],
   "source": [
    "# pop() 弹出指定key的value\n",
    "# popitem() 随机弹出一个元组(key,value)\n",
    "# 注意，字典是没有顺序的\n",
    "from copy import deepcopy\n",
    "\n",
    "dicts = {\"a\":1, \"b\":2, 'c':3}\n",
    "dicts_a = deepcopy(dicts)\n",
    "dicts_b = deepcopy(dicts)\n",
    "\n",
    "print(dicts_b.popitem())\n",
    "print(dicts_b)\n",
    "print(dicts_a.pop(\"a\"))\n",
    "print(dicts_a)"
   ]
  },
  {
   "cell_type": "code",
   "execution_count": 75,
   "id": "4d18be37",
   "metadata": {},
   "outputs": [
    {
     "data": {
      "text/plain": [
       "{'a': 5, 'b': 2, 'c': 3}"
      ]
     },
     "execution_count": 75,
     "metadata": {},
     "output_type": "execute_result"
    }
   ],
   "source": [
    "# update()\n",
    "dicts = {\"a\":1, \"b\":2, 'c':3}\n",
    "ups = {'a':5}\n",
    "dicts.update(ups)\n",
    "dicts"
   ]
  },
  {
   "cell_type": "code",
   "execution_count": 78,
   "id": "540e789e",
   "metadata": {},
   "outputs": [
    {
     "name": "stdout",
     "output_type": "stream",
     "text": [
      "dict_values([1, 2, 3])\n",
      "<class 'dict_values'>\n",
      "1\n",
      "1\n",
      "1\n",
      "1\n"
     ]
    }
   ],
   "source": [
    "# values() 返回一个dict_values的对象\n",
    "dicts = {\"a\":1, \"b\":2, 'c':3}\n",
    "print(dicts.values())\n",
    "print(type(dicts.values()))\n",
    "print(dicts['a'])\n",
    "print(dicts.get('a'))\n",
    "print(dicts.setdefault('a','na'))\n",
    "print(dicts.pop('a'))"
   ]
  },
  {
   "cell_type": "markdown",
   "id": "8782c73d",
   "metadata": {},
   "source": [
    "# 基础逻辑"
   ]
  },
  {
   "cell_type": "code",
   "execution_count": 84,
   "id": "6384a6e8",
   "metadata": {},
   "outputs": [
    {
     "name": "stdout",
     "output_type": "stream",
     "text": [
      "please input your name:collins\n",
      "greeting,_collins!"
     ]
    }
   ],
   "source": [
    "# print\n",
    "greeting = 'greeting'\n",
    "salutation = 'salutation'\n",
    "name = input('please input your name:')\n",
    "print(greeting + ',', name, sep='_', end='!')"
   ]
  },
  {
   "cell_type": "code",
   "execution_count": 89,
   "id": "c236d851",
   "metadata": {},
   "outputs": [
    {
     "name": "stdout",
     "output_type": "stream",
     "text": [
      "(1, 2, 3)\n",
      "[2, 3]\n",
      "x=1,y=2,z=3\n"
     ]
    }
   ],
   "source": [
    "# assignment\n",
    "# 解包对象必须与打包对象数量一致，可以使用*操作符接收剩余所有对象\n",
    "values = 1,2,3\n",
    "print(values)\n",
    "x,y,z = values\n",
    "x, *rest = values\n",
    "print(rest)\n",
    "print('x={},y={},z={}'.format(x,y,z))"
   ]
  },
  {
   "cell_type": "code",
   "execution_count": 88,
   "id": "8d133d5e",
   "metadata": {},
   "outputs": [
    {
     "name": "stdout",
     "output_type": "stream",
     "text": [
      "key=girlfriend,value=Marion\n",
      "name = Robin\n"
     ]
    }
   ],
   "source": [
    "# dictionary operations\n",
    "scoundrel = {'name':'Robin', 'girlfriend':'Marion'}\n",
    "key,value = scoundrel.popitem()\n",
    "print('key={},value={}'.format(key,value))\n",
    "print('name = {name}'.format_map(scoundrel))"
   ]
  },
  {
   "cell_type": "markdown",
   "id": "cbc98cd1",
   "metadata": {},
   "source": [
    "## 内置运算符\n",
    "1. == 比较不变值的大小\n",
    "2. is 比较引用值是否相同\n",
    "3. in 成员资格运算符\n",
    "4. 比较顺序：顺序比较\n",
    "5. assert 断言运算符，在程序出现问题前防止其崩溃,<font color=red>可以设置为检查点</font>"
   ]
  },
  {
   "cell_type": "code",
   "execution_count": 91,
   "id": "d75de870",
   "metadata": {},
   "outputs": [
    {
     "ename": "AssertionError",
     "evalue": "",
     "output_type": "error",
     "traceback": [
      "\u001b[0;31m---------------------------------------------------------------------------\u001b[0m",
      "\u001b[0;31mAssertionError\u001b[0m                            Traceback (most recent call last)",
      "\u001b[0;32m/var/folders/zh/fmxxp3g1653ccyjmyp5z3bc00000gn/T/ipykernel_13461/1038699948.py\u001b[0m in \u001b[0;36m<module>\u001b[0;34m\u001b[0m\n\u001b[1;32m      3\u001b[0m \u001b[0;32massert\u001b[0m \u001b[0;36m0\u001b[0m \u001b[0;34m<\u001b[0m \u001b[0mage\u001b[0m \u001b[0;34m<\u001b[0m \u001b[0;36m100\u001b[0m\u001b[0;34m\u001b[0m\u001b[0;34m\u001b[0m\u001b[0m\n\u001b[1;32m      4\u001b[0m \u001b[0mage\u001b[0m \u001b[0;34m=\u001b[0m \u001b[0;34m-\u001b[0m\u001b[0;36m1\u001b[0m\u001b[0;34m\u001b[0m\u001b[0;34m\u001b[0m\u001b[0m\n\u001b[0;32m----> 5\u001b[0;31m \u001b[0;32massert\u001b[0m \u001b[0;36m0\u001b[0m \u001b[0;34m<\u001b[0m \u001b[0mage\u001b[0m \u001b[0;34m<\u001b[0m \u001b[0;36m100\u001b[0m\u001b[0;34m\u001b[0m\u001b[0;34m\u001b[0m\u001b[0m\n\u001b[0m",
      "\u001b[0;31mAssertionError\u001b[0m: "
     ]
    }
   ],
   "source": [
    "# assert\n",
    "age = 10\n",
    "assert 0 < age < 100\n",
    "age = -1 \n",
    "assert 0 < age < 100"
   ]
  },
  {
   "cell_type": "markdown",
   "id": "4396e8dc",
   "metadata": {},
   "source": [
    "## 循环\n",
    "### 基础知识\n",
    "1. 可迭代对象都是能够使用for循环进行遍历的对象，iterable\n",
    "2. 常见的容器类型如list, tuple, dictionary都是可迭代对象\n",
    "3. 可以在for循环中解序列包\n",
    "\n",
    "### 迭代容器\n",
    "1. 内置函数迭代\n",
    "    1. range(n) - 左闭右开区间，如果只有一个数，则从0开始\n",
    "    2. index, value = enumerate(list)\n",
    "1. 迭代列表\n",
    "通过index值进行迭代\n",
    "2. 迭代字典\n",
    "通过key值进行迭代\n",
    "3. 迭代两个容器\n",
    "使用for range(len()) + zip()函数<br>\n",
    "zip()函数会在最短的列表停止后终止迭代"
   ]
  },
  {
   "cell_type": "code",
   "execution_count": 92,
   "id": "bdd78909",
   "metadata": {},
   "outputs": [
    {
     "name": "stdout",
     "output_type": "stream",
     "text": [
      "this\n",
      "is\n",
      "an\n",
      "ex\n",
      "parrot\n"
     ]
    }
   ],
   "source": [
    "# 迭代列表\n",
    "words = ['this', 'is', 'an', 'ex', 'parrot']\n",
    "for word in words:\n",
    "    print(word)"
   ]
  },
  {
   "cell_type": "code",
   "execution_count": 93,
   "id": "7a804ebf",
   "metadata": {},
   "outputs": [
    {
     "name": "stdout",
     "output_type": "stream",
     "text": [
      "1\n",
      "2\n",
      "3\n",
      "4\n"
     ]
    }
   ],
   "source": [
    "# 迭代字典\n",
    "dicts = {\"a\":1,\"b\":2,\"c\":3,\"d\":4}\n",
    "for key in dicts:\n",
    "    print(dicts[key])"
   ]
  },
  {
   "cell_type": "code",
   "execution_count": 94,
   "id": "f55f4376",
   "metadata": {},
   "outputs": [
    {
     "name": "stdout",
     "output_type": "stream",
     "text": [
      "key=a,value=1\n",
      "key=b,value=2\n",
      "key=c,value=3\n",
      "key=d,value=4\n"
     ]
    }
   ],
   "source": [
    "for key, value in dicts.items():\n",
    "    print(\"key={},value={}\".format(key ,value))"
   ]
  },
  {
   "cell_type": "code",
   "execution_count": 95,
   "id": "07fe3d23",
   "metadata": {},
   "outputs": [
    {
     "name": "stdout",
     "output_type": "stream",
     "text": [
      "Bob is 10 years old\n",
      "Andy is 12 years old\n",
      "Caroline is 32 years old\n",
      "Dick is 14 years old\n"
     ]
    }
   ],
   "source": [
    "name = ['Bob',\"Andy\", 'Caroline', \"Dick\"]\n",
    "age = [10,12,32,14]\n",
    "for name,age in zip(name,age):\n",
    "    print(name, 'is', age, 'years old')"
   ]
  },
  {
   "cell_type": "code",
   "execution_count": null,
   "id": "43af817f",
   "metadata": {},
   "outputs": [],
   "source": []
  }
 ],
 "metadata": {
  "kernelspec": {
   "display_name": "python3.6",
   "language": "python",
   "name": "python3.6"
  },
  "language_info": {
   "codemirror_mode": {
    "name": "ipython",
    "version": 3
   },
   "file_extension": ".py",
   "mimetype": "text/x-python",
   "name": "python",
   "nbconvert_exporter": "python",
   "pygments_lexer": "ipython3",
   "version": "3.9.7"
  },
  "toc": {
   "base_numbering": 1,
   "nav_menu": {},
   "number_sections": true,
   "sideBar": true,
   "skip_h1_title": false,
   "title_cell": "Table of Contents",
   "title_sidebar": "Contents",
   "toc_cell": false,
   "toc_position": {
    "height": "calc(100% - 180px)",
    "left": "10px",
    "top": "150px",
    "width": "287.391px"
   },
   "toc_section_display": true,
   "toc_window_display": true
  }
 },
 "nbformat": 4,
 "nbformat_minor": 5
}
