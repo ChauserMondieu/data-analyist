{
 "cells": [
  {
   "cell_type": "markdown",
   "id": "638ca9b8",
   "metadata": {},
   "source": [
    "# 方差分析"
   ]
  },
  {
   "cell_type": "markdown",
   "id": "637f376a",
   "metadata": {},
   "source": [
    "## 单因素方差分析"
   ]
  },
  {
   "cell_type": "markdown",
   "id": "eb5625b4",
   "metadata": {},
   "source": [
    "<table align='center'>\n",
    "    <tr align='center'>\n",
    "        <th>parameters</th>\n",
    "        <th>explanation</th>\n",
    "    </tr>\n",
    "    <tr>\n",
    "        <td align='center'>$SST$</td>\n",
    "        <td align='center'>总体平方和</td>\n",
    "    </tr>\n",
    "    <tr>\n",
    "        <td align='center'>$SSA$</td>\n",
    "        <td align='center'>因素A的平方和</td>\n",
    "    </tr>\n",
    "    <tr>\n",
    "        <td align='center'>$SSE$</td>\n",
    "        <td align='center'>误差平方和</td>\n",
    "    </tr>\n",
    "    <tr>\n",
    "        <td align='center'>$a$</td>\n",
    "        <td align='center'>因素A的水平</td>\n",
    "    </tr>\n",
    "    <tr>\n",
    "        <td align='center'>$n_i$</td>\n",
    "        <td align='center'>因素A第i个水平的样本数量</td>\n",
    "    </tr>\n",
    "    <tr>\n",
    "        <td align='center'>$y_{ij}$</td>\n",
    "        <td align='center'>因素A第i个水平第j个实验观察值</td>\n",
    "    </tr>\n",
    "<table>\n",
    "<style>\n",
    "    td{\n",
    "        align='center'\n",
    "    }\n",
    "</style>\n",
    "计算公式如下：\n",
    "$$\n",
    "    \\begin{array}{ll}\n",
    "    SST = \\sum_{i=1}^{a}\\sum_{j=1}^{n_i}{{(y_{ij}-\\bar y)}^2} \\\\\n",
    "    SSA = \\sum_{i=1}^{a}{n_i{(\\bar y_{i}-\\bar y)}^2} \\\\\n",
    "    SSE = \\sum_{i=1}^{a}\\sum_{j=1}^{n_i}{{(y_{ij}-\\bar y_i)}^2} \\\\\n",
    "    SST = SSA + SSE\n",
    "    \\end{array}\n",
    "$$\n",
    "假设检验统计量\n",
    "$$\n",
    "    H_0 : \\mu_1 = \\mu_2 = \\cdots = \\mu_a \\\\\n",
    "    H_1 : \\mu_i 不完全相等 \\\\\n",
    "    F = \\frac{SSA/(a-1)}{SSE/(n-a)}=\\frac{MSA}{MSE}\n",
    "$$"
   ]
  },
  {
   "cell_type": "code",
   "execution_count": 12,
   "id": "cff3f14f",
   "metadata": {},
   "outputs": [
    {
     "data": {
      "text/html": [
       "<div>\n",
       "<style scoped>\n",
       "    .dataframe tbody tr th:only-of-type {\n",
       "        vertical-align: middle;\n",
       "    }\n",
       "\n",
       "    .dataframe tbody tr th {\n",
       "        vertical-align: top;\n",
       "    }\n",
       "\n",
       "    .dataframe thead th {\n",
       "        text-align: right;\n",
       "    }\n",
       "</style>\n",
       "<table border=\"1\" class=\"dataframe\">\n",
       "  <thead>\n",
       "    <tr style=\"text-align: right;\">\n",
       "      <th></th>\n",
       "      <th>A</th>\n",
       "      <th>B</th>\n",
       "      <th>C</th>\n",
       "    </tr>\n",
       "  </thead>\n",
       "  <tbody>\n",
       "    <tr>\n",
       "      <th>0</th>\n",
       "      <td>164</td>\n",
       "      <td>185.0</td>\n",
       "      <td>187.0</td>\n",
       "    </tr>\n",
       "    <tr>\n",
       "      <th>1</th>\n",
       "      <td>190</td>\n",
       "      <td>197.0</td>\n",
       "      <td>212.0</td>\n",
       "    </tr>\n",
       "    <tr>\n",
       "      <th>2</th>\n",
       "      <td>203</td>\n",
       "      <td>201.0</td>\n",
       "      <td>215.0</td>\n",
       "    </tr>\n",
       "    <tr>\n",
       "      <th>3</th>\n",
       "      <td>205</td>\n",
       "      <td>231.0</td>\n",
       "      <td>220.0</td>\n",
       "    </tr>\n",
       "    <tr>\n",
       "      <th>4</th>\n",
       "      <td>206</td>\n",
       "      <td>0.0</td>\n",
       "      <td>248.0</td>\n",
       "    </tr>\n",
       "    <tr>\n",
       "      <th>5</th>\n",
       "      <td>214</td>\n",
       "      <td>0.0</td>\n",
       "      <td>265.0</td>\n",
       "    </tr>\n",
       "    <tr>\n",
       "      <th>6</th>\n",
       "      <td>228</td>\n",
       "      <td>0.0</td>\n",
       "      <td>281.0</td>\n",
       "    </tr>\n",
       "    <tr>\n",
       "      <th>7</th>\n",
       "      <td>257</td>\n",
       "      <td>0.0</td>\n",
       "      <td>0.0</td>\n",
       "    </tr>\n",
       "  </tbody>\n",
       "</table>\n",
       "</div>"
      ],
      "text/plain": [
       "     A      B      C\n",
       "0  164  185.0  187.0\n",
       "1  190  197.0  212.0\n",
       "2  203  201.0  215.0\n",
       "3  205  231.0  220.0\n",
       "4  206    0.0  248.0\n",
       "5  214    0.0  265.0\n",
       "6  228    0.0  281.0\n",
       "7  257    0.0    0.0"
      ]
     },
     "execution_count": 12,
     "metadata": {},
     "output_type": "execute_result"
    }
   ],
   "source": [
    "import numpy as np\n",
    "import pandas as pd\n",
    "import statsmodels.api as sm\n",
    "import statsmodels.formula.api as smf\n",
    "import statsmodels.stats.anova as ssa\n",
    "from matplotlib import pyplot as plt\n",
    "\n",
    "data_a = np.array([164, 190, 203, 205, 206, 214, 228, 257])\n",
    "data_b = np.array([185, 197, 201, 231])\n",
    "data_c = np.array([187, 212, 215, 220, 248, 265, 281])\n",
    "geniepig_weight_df = pd.concat([pd.DataFrame({\"A\":data_a}),\n",
    "                                pd.DataFrame({\"B\":data_b}),\n",
    "                                pd.DataFrame({\"C\":data_c})],axis=1)\n",
    "geniepig_weight_df = geniepig_weight_df.fillna(0)\n",
    "geniepig_weight_df"
   ]
  },
  {
   "cell_type": "markdown",
   "id": "73fb474e",
   "metadata": {},
   "source": [
    "### F分析"
   ]
  },
  {
   "cell_type": "code",
   "execution_count": 51,
   "id": "773bce22",
   "metadata": {},
   "outputs": [
    {
     "data": {
      "text/plain": [
       "0.002307593325694528"
      ]
     },
     "execution_count": 51,
     "metadata": {},
     "output_type": "execute_result"
    },
    {
     "data": {
      "image/png": "[encoded data removed]",
      "text/plain": [
       "<Figure size 480x640 with 1 Axes>"
      ]
     },
     "metadata": {},
     "output_type": "display_data"
    }
   ],
   "source": [
    "from scipy import stats\n",
    "\n",
    "# 卡方分布的双侧p检验值\n",
    "fig = plt.figure(figsize=(6,8),dpi=80,\n",
    "                 facecolor='whitesmoke',\n",
    "                 edgecolor='grey')\n",
    "ax = plt.subplot(1,1,1)\n",
    "f_x = np.arange(0,20,0.1)\n",
    "f_y = stats.f.pdf(f_x,3,28)\n",
    "chi_y = stats.chi2.pdf(f_x,3)\n",
    "chi_y2 = stats.chi2.pdf(f_x,28)\n",
    "ax.plot(f_x,f_y,label='f')\n",
    "ax.plot(f_x,chi_y,label='chi2-1')\n",
    "ax.plot(f_x,chi_y2,label='chi2-2')\n",
    "ax.legend()\n",
    "ax.grid(alpha=0.4)\n",
    "p = stats.f.pdf(6.03,3,28)\n",
    "p"
   ]
  },
  {
   "cell_type": "markdown",
   "id": "f5b0f86e",
   "metadata": {},
   "source": [
    "# 单因素各水平均值比较"
   ]
  },
  {
   "cell_type": "markdown",
   "id": "be4c04b9",
   "metadata": {},
   "source": [
    "### 因素均值原理\n",
    "通过各因素样本均值和样本方差估计总体均值的置信区间<br>\n",
    "假设各因素以及全体数据误差方差均为$\\sigma^2$<br>\n",
    "那么各因素均服从$N(\\mu_i,\\sigma^2)$的正态分布<br>\n",
    "因素样本均值$\\mu_i$是总体均值$\\mu_i$的一个无偏估计<br>\n",
    "因素的样本方差${s_i}^2$在假设中即为总体方差，可以与SSE产生联系，即$SSE = (n-a){s_i}^2$<br>\n",
    "那么可以使用样本均值构造$Z$，使用SSE构造$\\chi^2$<br>\n",
    "然后使用公式$\\frac{Z}{\\sqrt{\\chi^2/\\nu}}$构造$t(\\nu)$学生检验\n",
    "\n",
    "检验公式\n",
    "$$\n",
    "    \\frac{\\sqrt{n_i}(\\bar y_i-\\mu_i)}{\\sqrt{SSE/(n-a)}} \\sim t(n-a)\n",
    "$$\n",
    "\n",
    "### 因素间差值原理\n",
    "检验公式\n",
    "$$\n",
    "    \\frac{\\bar y_i - \\bar y_j -(\\mu_i -\\mu_j)}{\\sqrt{(\\frac{1}{n_i}+\\frac{1}{n_j})SSE/(n-a)}} \\sim t(n-a)\n",
    "$$\n",
    "Bonferrroni定理<br>\n",
    "设$E_i$为m个随机事件，且$P(E_i)=1-\\alpha$\n",
    "\\begin{equation}\n",
    "    P(\\cap_{i=1}^{m} E_i) = 1 - P(\\cup_{i=1}^{m} \\bar E_i) \\ge 1 - \\sum_{i=1}^{m}P(\\bar E_i) = 1-m\\alpha\n",
    "\\end{equation}\n",
    "$$"
   ]
  },
  {
   "cell_type": "code",
   "execution_count": null,
   "id": "8332dfef",
   "metadata": {},
   "outputs": [],
   "source": []
  }
 ],
 "metadata": {
  "kernelspec": {
   "display_name": "python3.6",
   "language": "python",
   "name": "python3.6"
  },
  "language_info": {
   "codemirror_mode": {
    "name": "ipython",
    "version": 3
   },
   "file_extension": ".py",
   "mimetype": "text/x-python",
   "name": "python",
   "nbconvert_exporter": "python",
   "pygments_lexer": "ipython3",
   "version": "3.9.7"
  },
  "toc": {
   "base_numbering": 1,
   "nav_menu": {},
   "number_sections": true,
   "sideBar": true,
   "skip_h1_title": false,
   "title_cell": "Table of Contents",
   "title_sidebar": "Contents",
   "toc_cell": false,
   "toc_position": {},
   "toc_section_display": true,
   "toc_window_display": true
  }
 },
 "nbformat": 4,
 "nbformat_minor": 5
}
