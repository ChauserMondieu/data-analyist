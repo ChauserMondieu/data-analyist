{
 "cells": [
  {
   "cell_type": "markdown",
   "id": "c622e16a",
   "metadata": {
    "toc": true
   },
   "source": [
    "<h1>Table of Contents<span class=\"tocSkip\"></span></h1>\n",
    "<div class=\"toc\"><ul class=\"toc-item\"><li><span><a href=\"#统计图形\" data-toc-modified-id=\"统计图形-1\"><span class=\"toc-item-num\">1&nbsp;&nbsp;</span>统计图形</a></span><ul class=\"toc-item\"><li><span><a href=\"#箱线图\" data-toc-modified-id=\"箱线图-1.1\"><span class=\"toc-item-num\">1.1&nbsp;&nbsp;</span>箱线图</a></span></li></ul></li></ul></div>"
   ]
  },
  {
   "cell_type": "code",
   "execution_count": 20,
   "id": "7b0d6ef3",
   "metadata": {},
   "outputs": [],
   "source": [
    "from matplotlib import pyplot as plt\n",
    "import numpy as np\n",
    "from IPython.display import Latex"
   ]
  },
  {
   "cell_type": "code",
   "execution_count": 15,
   "id": "cfc36fe7",
   "metadata": {},
   "outputs": [],
   "source": [
    "data = np.array(\n",
    "        [74.3,78.8,68.8,78.0,70.4,80.5,80.5,69.7,71.2,73.5,\n",
    "         79.5,75.6,75.0,78.8,72.0,72.0,72.0,74.3,71.2,72.0,\n",
    "         75.0,73.5,78.8,74.3,75.8,65.0,74.3,71.2,69.7,68.0,\n",
    "         73.5,75.0,72.0,64.3,75.8,80.3,69.7,74.3,73.5,73.5,\n",
    "         75.8,75.8,68.8,76.5,70.4,71.2,81.2,75.0,70.4,68.0,\n",
    "         70.4,72.0,76.5,74.3,76.5,77.6,67.3,72.0,75.0,74.3,\n",
    "         73.5,79.5,73.5,74.7,65.0,76.5,81.6,75.4,72.7,72.7,\n",
    "         67.2,76.5,72.7,70.4,77.2,68.8,67.3,67.3,67.3,72.7,\n",
    "         75.8,73.5,75.0,72.7,73.5,73.5,72.7,81.6,70.3,74.3,\n",
    "         73.5,79.5,70.4,76.5,72.7,77.2,84.3,75.0,76.5,70.4 \n",
    "         ],dtype=\"float64\")"
   ]
  },
  {
   "cell_type": "markdown",
   "id": "04ad4df5",
   "metadata": {},
   "source": [
    "# 统计图形"
   ]
  },
  {
   "cell_type": "markdown",
   "id": "6bfbae3e",
   "metadata": {},
   "source": [
    "## 箱线图"
   ]
  },
  {
   "cell_type": "code",
   "execution_count": 27,
   "id": "e5f4a2e1",
   "metadata": {},
   "outputs": [
    {
     "data": {
      "text/plain": [
       "{'whiskers': [<matplotlib.lines.Line2D at 0x7f8618af90d0>,\n",
       "  <matplotlib.lines.Line2D at 0x7f863a363f40>],\n",
       " 'caps': [<matplotlib.lines.Line2D at 0x7f863a3631f0>,\n",
       "  <matplotlib.lines.Line2D at 0x7f8618a77c10>],\n",
       " 'boxes': [<matplotlib.lines.Line2D at 0x7f863a0cd9a0>],\n",
       " 'medians': [<matplotlib.lines.Line2D at 0x7f86099af340>],\n",
       " 'fliers': [<matplotlib.lines.Line2D at 0x7f86099af370>],\n",
       " 'means': []}"
      ]
     },
     "execution_count": 27,
     "metadata": {},
     "output_type": "execute_result"
    },
    {
     "data": {
      "image/png": "[encoded data removed]",
      "text/plain": [
       "<Figure size 1440x576 with 1 Axes>"
      ]
     },
     "metadata": {
      "needs_background": "light"
     },
     "output_type": "display_data"
    }
   ],
   "source": [
    "fig,axes = plt.subplots(ncols=1, nrows=1, figsize = (20,8))\n",
    "# plt.figure(figsize=(30,12),dpi=80)\n",
    "axes.boxplot(data)"
   ]
  },
  {
   "cell_type": "code",
   "execution_count": 25,
   "id": "e0d95f67",
   "metadata": {},
   "outputs": [
    {
     "data": {
      "text/latex": [
       "$IQR$ = 4.60"
      ],
      "text/plain": [
       "<IPython.core.display.Latex object>"
      ]
     },
     "execution_count": 25,
     "metadata": {},
     "output_type": "execute_result"
    }
   ],
   "source": [
    "q1 = np.quantile(data,0.25,interpolation='lower')\n",
    "q4 = np.quantile(data,0.75,interpolation='higher')\n",
    "IQR = q4-q1\n",
    "Latex(r\"$IQR$ = {:.2f}\".format(IQR))"
   ]
  },
  {
   "cell_type": "code",
   "execution_count": null,
   "id": "044ba389",
   "metadata": {},
   "outputs": [],
   "source": []
  }
 ],
 "metadata": {
  "kernelspec": {
   "display_name": "python3.6",
   "language": "python",
   "name": "python3.6"
  },
  "language_info": {
   "codemirror_mode": {
    "name": "ipython",
    "version": 3
   },
   "file_extension": ".py",
   "mimetype": "text/x-python",
   "name": "python",
   "nbconvert_exporter": "python",
   "pygments_lexer": "ipython3",
   "version": "3.9.7"
  },
  "toc": {
   "base_numbering": 1,
   "nav_menu": {},
   "number_sections": true,
   "sideBar": true,
   "skip_h1_title": false,
   "title_cell": "Table of Contents",
   "title_sidebar": "Contents",
   "toc_cell": true,
   "toc_position": {},
   "toc_section_display": true,
   "toc_window_display": true
  }
 },
 "nbformat": 4,
 "nbformat_minor": 5
}
