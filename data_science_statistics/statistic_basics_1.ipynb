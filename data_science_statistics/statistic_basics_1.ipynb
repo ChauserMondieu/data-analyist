{
 "cells": [
  {
   "cell_type": "markdown",
   "id": "ce99df02",
   "metadata": {
    "toc": true
   },
   "source": [
    "<h1>Table of Contents<span class=\"tocSkip\"></span></h1>\n",
    "<div class=\"toc\"><ul class=\"toc-item\"><li><span><a href=\"#随机变量的两种收敛性\" data-toc-modified-id=\"随机变量的两种收敛性-1\"><span class=\"toc-item-num\">1&nbsp;&nbsp;</span>随机变量的两种收敛性</a></span><ul class=\"toc-item\"><li><span><a href=\"#依概率收敛\" data-toc-modified-id=\"依概率收敛-1.1\"><span class=\"toc-item-num\">1.1&nbsp;&nbsp;</span>依概率收敛</a></span></li><li><span><a href=\"#依分布收敛\" data-toc-modified-id=\"依分布收敛-1.2\"><span class=\"toc-item-num\">1.2&nbsp;&nbsp;</span>依分布收敛</a></span></li></ul></li></ul></div>"
   ]
  },
  {
   "cell_type": "code",
   "execution_count": 16,
   "id": "12751723",
   "metadata": {},
   "outputs": [],
   "source": [
    "import numpy as np\n",
    "import random\n",
    "from IPython.display import Latex"
   ]
  },
  {
   "cell_type": "code",
   "execution_count": 33,
   "id": "984ac678",
   "metadata": {},
   "outputs": [],
   "source": [
    "data = np.array(\n",
    "        [74.3,78.8,68.8,78.0,70.4,80.5,80.5,69.7,71.2,73.5,\n",
    "         79.5,75.6,75.0,78.8,72.0,72.0,72.0,74.3,71.2,72.0,\n",
    "         75.0,73.5,78.8,74.3,75.8,65.0,74.3,71.2,69.7,68.0,\n",
    "         73.5,75.0,72.0,64.3,75.8,80.3,69.7,74.3,73.5,73.5,\n",
    "         75.8,75.8,68.8,76.5,70.4,71.2,81.2,75.0,70.4,68.0,\n",
    "         70.4,72.0,76.5,74.3,76.5,77.6,67.3,72.0,75.0,74.3,\n",
    "         73.5,79.5,73.5,74.7,65.0,76.5,81.6,75.4,72.7,72.7,\n",
    "         67.2,76.5,72.7,70.4,77.2,68.8,67.3,67.3,67.3,72.7,\n",
    "         75.8,73.5,75.0,72.7,73.5,73.5,72.7,81.6,70.3,74.3,\n",
    "         73.5,79.5,70.4,76.5,72.7,77.2,84.3,75.0,76.5,70.4 \n",
    "         ],dtype=\"float64\")"
   ]
  },
  {
   "cell_type": "code",
   "execution_count": 31,
   "id": "a07fc83a",
   "metadata": {},
   "outputs": [
    {
     "data": {
      "text/latex": [
       "$\\bar{x}$ = 73.66000000000001"
      ],
      "text/plain": [
       "<IPython.core.display.Latex object>"
      ]
     },
     "execution_count": 31,
     "metadata": {},
     "output_type": "execute_result"
    }
   ],
   "source": [
    "Latex(r'$\\bar{{x}}$ = {}'.format(np.mean(data)))"
   ]
  },
  {
   "cell_type": "code",
   "execution_count": 32,
   "id": "6f037655",
   "metadata": {},
   "outputs": [
    {
     "data": {
      "text/latex": [
       "$M_{0.25}$ = 71.2"
      ],
      "text/plain": [
       "<IPython.core.display.Latex object>"
      ]
     },
     "execution_count": 32,
     "metadata": {},
     "output_type": "execute_result"
    }
   ],
   "source": [
    "Latex(r\"$M_{{0.25}}$ = {}\".format(np.quantile(data,0.25)))"
   ]
  },
  {
   "cell_type": "markdown",
   "id": "46c948c1",
   "metadata": {},
   "source": [
    "无偏估计是针对小样本的，小样本的估计量即为总体统计量<br>\n",
    "相合估计是针对大样本的，当样本数量$n\\to\\infty$时样本估计量依概率收敛至总体统计量<br>\n",
    "距离，样本的二阶中心距$=\\frac{n-1}{n}S_{n}$，即为总体方差的有偏估计，但是$\\lim\\limits_{n \\to \\infty} P\\{|\\frac{n-1}{n}S_{n} -S_{n}|=0\\} =1$，因此是一个大样本的相合估计"
   ]
  },
  {
   "cell_type": "markdown",
   "id": "32f253d8",
   "metadata": {},
   "source": [
    "## 随机变量的两种收敛性\n",
    "### 依概率收敛\n",
    "$$\\exists  \\sigma , \\lim\\limits_{n \\to \\infty} P\\{|X_{n}-X| \\ge \\sigma \\}=0$$\n",
    "### 依分布收敛\n",
    "$$\\lim\\limits_{n \\to \\infty} F_{n}(x)=F(x)$$"
   ]
  },
  {
   "cell_type": "code",
   "execution_count": null,
   "id": "1d209842",
   "metadata": {},
   "outputs": [],
   "source": []
  }
 ],
 "metadata": {
  "kernelspec": {
   "display_name": "python3.6",
   "language": "python",
   "name": "python3.6"
  },
  "language_info": {
   "codemirror_mode": {
    "name": "ipython",
    "version": 3
   },
   "file_extension": ".py",
   "mimetype": "text/x-python",
   "name": "python",
   "nbconvert_exporter": "python",
   "pygments_lexer": "ipython3",
   "version": "3.9.7"
  },
  "toc": {
   "base_numbering": 1,
   "nav_menu": {},
   "number_sections": true,
   "sideBar": true,
   "skip_h1_title": false,
   "title_cell": "Table of Contents",
   "title_sidebar": "Contents",
   "toc_cell": true,
   "toc_position": {},
   "toc_section_display": true,
   "toc_window_display": false
  }
 },
 "nbformat": 4,
 "nbformat_minor": 5
}
